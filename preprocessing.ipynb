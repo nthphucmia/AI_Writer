{
 "cells": [
  {
   "cell_type": "code",
   "execution_count": 1,
   "metadata": {},
   "outputs": [],
   "source": [
    "import numpy as np\n",
    "import pandas as pd\n",
    "import os \n",
    "import sys\n",
    "import re \n",
    "import json\n",
    "from tqdm import tqdm\n",
    "import pandas as pd\n",
    "import gensim\n",
    "import gensim.parsing.preprocessing as gp\n",
    "from gensim import utils\n",
    "import re\n",
    "import demoji\n",
    "import unicodedata\n",
    "import random\n",
    "\n",
    "import sys\n",
    "sys.path.append('/Users/HPhuc/AI_Project/')\n",
    "\n",
    "from repos.utils import multiprocess"
   ]
  },
  {
   "cell_type": "code",
   "execution_count": 2,
   "metadata": {},
   "outputs": [
    {
     "name": "stdout",
     "output_type": "stream",
     "text": [
      "26425\n"
     ]
    },
    {
     "data": {
      "text/plain": [
       "'MỪNG TẾT LỚN CÙNG SAMSUNG Một Mùa Xuân hạnh phúc đang đến rất gần. Hãy để Samsung mang đến những sản phẩm Tủ Lạnh & Máy Giặt mới nhất trang bị cho tổ ấm của gia đình của bạn thêm sung túc cùng nhiều ưu đãi thật hấp dẫn. Mua Tủ Lạnh hoặc Máy Giặt Samsung từ 02/12/2019 đến hết 15/02/2020, bạn sẽ được tặng ngay những món quà Tết thật giá trị. Galaxy tab A+ S Pen 2019. Lò vi sóng. Máy ép trái cây. '"
      ]
     },
     "execution_count": 2,
     "metadata": {},
     "output_type": "execute_result"
    }
   ],
   "source": [
    "clean_data = pd.read_csv('/Users/HPhuc/Downloads/[ProductLabeled]MarketingContent_ver5_4.csv', index_col=0)\n",
    "\n",
    "idc = random.randint(0, len(clean_data))\n",
    "print(idc)\n",
    "clean_data['content'][idc]"
   ]
  },
  {
   "cell_type": "markdown",
   "metadata": {},
   "source": [
    "Define regex "
   ]
  },
  {
   "cell_type": "code",
   "execution_count": 3,
   "metadata": {},
   "outputs": [],
   "source": [
    "Hashtags_and_Mentions = \"(@\\S+|#\\S+)\"\n",
    "Links                 = \"https?://\\S+|www\\.\\S+\"\n",
    "Emails                = '\\S+@\\S+'\n",
    "Noise                 = \"(\\\\W|\\\\d)\"             # non-ascii and digits\n",
    "Numbers               = '\\d+'"
   ]
  },
  {
   "cell_type": "markdown",
   "metadata": {},
   "source": [
    "**Prepare data**"
   ]
  },
  {
   "cell_type": "code",
   "execution_count": 4,
   "metadata": {},
   "outputs": [
    {
     "data": {
      "text/html": [
       "<div>\n",
       "<style scoped>\n",
       "    .dataframe tbody tr th:only-of-type {\n",
       "        vertical-align: middle;\n",
       "    }\n",
       "\n",
       "    .dataframe tbody tr th {\n",
       "        vertical-align: top;\n",
       "    }\n",
       "\n",
       "    .dataframe thead th {\n",
       "        text-align: right;\n",
       "    }\n",
       "</style>\n",
       "<table border=\"1\" class=\"dataframe\">\n",
       "  <thead>\n",
       "    <tr style=\"text-align: right;\">\n",
       "      <th></th>\n",
       "      <th>content</th>\n",
       "      <th>label</th>\n",
       "    </tr>\n",
       "  </thead>\n",
       "  <tbody>\n",
       "    <tr>\n",
       "      <th>0</th>\n",
       "      <td>Với bạn, nhà là?\\n\\nLà nơi để trở về sau những...</td>\n",
       "      <td>LG_MarketingContent</td>\n",
       "    </tr>\n",
       "    <tr>\n",
       "      <th>1</th>\n",
       "      <td>CHỦ THẺ ĐÓN LỢI THẾ, NHẬN ƯU ĐÃI TỚI 36%\\n\\nƯu...</td>\n",
       "      <td>LG_MarketingContent</td>\n",
       "    </tr>\n",
       "    <tr>\n",
       "      <th>2</th>\n",
       "      <td>Độc đáo với công nghệ lọc 360°, Máy lọc không ...</td>\n",
       "      <td>LG_MarketingContent</td>\n",
       "    </tr>\n",
       "    <tr>\n",
       "      <th>3</th>\n",
       "      <td>Chill nhạc chất, an toàn là nhất\\n\\nLG mong mu...</td>\n",
       "      <td>LG_MarketingContent</td>\n",
       "    </tr>\n",
       "    <tr>\n",
       "      <th>4</th>\n",
       "      <td>VÌ YÊU CON NÊN MẸ KHÓ?\\nCỨ ĐỂ THINQ LO\\n\\nMuốn...</td>\n",
       "      <td>LG_MarketingContent</td>\n",
       "    </tr>\n",
       "    <tr>\n",
       "      <th>...</th>\n",
       "      <td>...</td>\n",
       "      <td>...</td>\n",
       "    </tr>\n",
       "    <tr>\n",
       "      <th>42544</th>\n",
       "      <td>🍭 Chào mừng bạn đến lớp học của CAKE!! Để xây ...</td>\n",
       "      <td>nguyenvt_raw</td>\n",
       "    </tr>\n",
       "    <tr>\n",
       "      <th>42545</th>\n",
       "      <td>🍩Mỹ phẩm đã sản xuất theo lít thì Cake cũng bo...</td>\n",
       "      <td>nguyenvt_raw</td>\n",
       "    </tr>\n",
       "    <tr>\n",
       "      <th>42546</th>\n",
       "      <td>Sống dễ (v) /ngồi nhà hưởng 5.2% lã...</td>\n",
       "      <td>nguyenvt_raw</td>\n",
       "    </tr>\n",
       "    <tr>\n",
       "      <th>42547</th>\n",
       "      <td>🌈Chúc mừng ngày Quốc Tế LGBT🌈 🍫Tha hồ chọn cho...</td>\n",
       "      <td>nguyenvt_raw</td>\n",
       "    </tr>\n",
       "    <tr>\n",
       "      <th>42548</th>\n",
       "      <td>Happy Pride Day &lt;3Chúc mừng Ngày Tự hào &lt;3 · X...</td>\n",
       "      <td>nguyenvt_raw</td>\n",
       "    </tr>\n",
       "  </tbody>\n",
       "</table>\n",
       "<p>42549 rows × 2 columns</p>\n",
       "</div>"
      ],
      "text/plain": [
       "                                                 content                label\n",
       "0      Với bạn, nhà là?\\n\\nLà nơi để trở về sau những...  LG_MarketingContent\n",
       "1      CHỦ THẺ ĐÓN LỢI THẾ, NHẬN ƯU ĐÃI TỚI 36%\\n\\nƯu...  LG_MarketingContent\n",
       "2      Độc đáo với công nghệ lọc 360°, Máy lọc không ...  LG_MarketingContent\n",
       "3      Chill nhạc chất, an toàn là nhất\\n\\nLG mong mu...  LG_MarketingContent\n",
       "4      VÌ YÊU CON NÊN MẸ KHÓ?\\nCỨ ĐỂ THINQ LO\\n\\nMuốn...  LG_MarketingContent\n",
       "...                                                  ...                  ...\n",
       "42544  🍭 Chào mừng bạn đến lớp học của CAKE!! Để xây ...         nguyenvt_raw\n",
       "42545  🍩Mỹ phẩm đã sản xuất theo lít thì Cake cũng bo...         nguyenvt_raw\n",
       "42546  Sống dễ (v) /ngồi nhà hưởng 5.2% lã...         nguyenvt_raw\n",
       "42547  🌈Chúc mừng ngày Quốc Tế LGBT🌈 🍫Tha hồ chọn cho...         nguyenvt_raw\n",
       "42548  Happy Pride Day <3Chúc mừng Ngày Tự hào <3 · X...         nguyenvt_raw\n",
       "\n",
       "[42549 rows x 2 columns]"
      ]
     },
     "execution_count": 4,
     "metadata": {},
     "output_type": "execute_result"
    }
   ],
   "source": [
    "raw_data = pd.read_csv('/Users/HPhuc/AI_Project/Ftech/[raw]marketing_content_final_1.csv')\n",
    "raw_data"
   ]
  },
  {
   "cell_type": "code",
   "execution_count": 5,
   "metadata": {},
   "outputs": [
    {
     "name": "stdout",
     "output_type": "stream",
     "text": [
      "16744\n",
      "Trang DXOMark - chuyên đánh giá Camera Phone đã tiến hành chụp và đánh giá chất lượng Camera của ZenFone 5, Với cảm biến hàng đầu là Sony IMX 363 Và với các thông số cụ thể như sau: Hai Camera sau: Camera chính: 12MP (f/1.8, 24mm, 1/2.55\", 1.4µm, PDAF: lấy nét theo pha với công nghệ Dual-Pixel) Camera phụ: 8 MP (f/2.0, 12mm, 1/4\", 1.12µm) Hai đèn LED Flash Camera trước: Một camera: 8 MP (f/2.0, 24mm, 1/4\", 1.12µm), chống rung gyro EIS , khả năng quay phim FullHD 1080p Số điểm DXOMark Photo trên #ZenFone5 là 93 điểm - Một số điểm Xuất sắc Giá bán chính thức: 7,990,000 VND Bán độc quyền tại FPT shop Pre-order ngay: https://goo.gl/p9cQ8Y Tìm hiểu sản phẩm: https://goo.gl/X3wqN7 ============================================== #AIDualCameras - Camera chính: Sử dụng cảm biến hàng đầu Sony IMX 363, 12MP với Kích thước cảm biến lớn 1/2.55\", kích thước điểm ảnh lên đến 1.4 Micron, Khẩu độ lớn F1.8, ISO 25, khả năng chống rung quang học OIS và EIS, tích hợp công nghệ lấy nét DualPixel PDAF.  - Camera phụ 8MP với góc chụp góc rộng 120 độ + Chụp xóa phông - Tích hợp công nghệ chụp chân dung xóa phông và chế độ làm đẹp trong thời gian thực - AI Camera với khả năng nhận diện lên đến 16 ngữ cảnh chụp với các thiết lập lý tưởng để cho ra bức ảnh tốt nhất  - AI photo learning tính năng học từ thói quen và sở thích người dùng để tự động tạo ra bức ảnh theo đúng nhu cầu người dùng. #CameraSelfie với độ phân giải 8MP + chế độ chụp chân dung xóa phóng với ứng dụng động quyền #SelfieMaster #AIBoost  - CPU #Snapdragon SD636 mạnh nhất với công nghệ #AIBoost độc quyền giúp tăng hiệu năng lên 12% (tương đương sức mạnh Snapdragon SD660) - Bộ nhớ Ram | Rom : 4GB | 64GB - Antutu lên đến 140,000 điểm. chơi mượt mà tất cả các tựa game nặng nhất hiện nay với thiết lập cao nhất - #GameGenie cho phép người chơi game tối ưu hóa hiệu năng trong khi choi game với khả năng livestream trực tiếp giúp bạn dễ dàng chia sẽ các trận đấu đỉnh cao. #ThiếtKế - Thiết kế kim loại nguyên khối từ hợp kim nhôm cao cấp chế tạo tàu vũ trụ và mặt kính được phủ 8 lớp quang học cho hiệu ứng quang học ứng tượng. - Màn hình #trànđỉnh với công nghệ Super IPS FHD+ và được phủ 100% dải màu điện ảnh DCI-P3. Tỷ lệ màn hình với thân máy lên đến 90% Màn hình 6.2 inch trong thân máy 5.5 inch - Loa Kép thích hợp bộ khuyếch đại âm thanh NXP9874 - Mic kép với khả nặng lọc tiếng ồn trong bất cứ môi trường nào. - Bảo mật kép với Nhận diện khuôn mặt (0.1s) và Bảo mật vân tay (0.3s) - gấp đôi vòng đời xạc với công AI Charing sạc thông minh + Công nghệ sạc nhanh Qualcomm + công nghệ ASUS BoostMaster cho phép sạc nhanh mà vẫn đảo độ bền của pin. Pin 3300 mAh #AIDualCameras #AIRington #AIGallery #AIPhotolearning #AISceneDetection #AIBoost #AICharging #Zenfone5 #intelligentFone\n"
     ]
    }
   ],
   "source": [
    "import random\n",
    "idc = random.randint(0, len(raw_data))\n",
    "print(idc)\n",
    "\n",
    "sample = raw_data['content'].iloc[idc]\n",
    "print(sample)\n"
   ]
  },
  {
   "cell_type": "markdown",
   "metadata": {},
   "source": [
    "**Analyse data**"
   ]
  },
  {
   "cell_type": "code",
   "execution_count": 6,
   "metadata": {},
   "outputs": [
    {
     "data": {
      "text/plain": [
       "0                               ['https://www.lg.com/vn/']\n",
       "1        ['https://bit.ly/3vd8Y33', 'https://bit.ly/3vd...\n",
       "2                              ['http://lge.ai/6177G6UjV']\n",
       "3        ['https://www.lg.com/vn/tai-nghe-khong-day/lg-...\n",
       "4        ['https://apple.co/3CP46lr', 'https://cutt.ly/...\n",
       "                               ...                        \n",
       "42544    ['https://cakevn.onelink.me/HHDV/CakeFB', 'htt...\n",
       "42545    ['https://cakevn.onelink.me/HHDV/99611cd1', 'h...\n",
       "42546    ['https://cakevn.onelink.me/HHDV/99611cd1', 'h...\n",
       "42547    ['https://cakevn.onelink.me/HHDV/CakeFB', 'htt...\n",
       "42548                                                   []\n",
       "Name: content, Length: 42549, dtype: object"
      ]
     },
     "execution_count": 6,
     "metadata": {},
     "output_type": "execute_result"
    }
   ],
   "source": [
    "raw_data['content'].apply(lambda s: str(re.findall(Links, s)))\n"
   ]
  },
  {
   "cell_type": "code",
   "execution_count": 7,
   "metadata": {},
   "outputs": [
    {
     "data": {
      "text/plain": [
       "0                                           ['#LGVietnam']\n",
       "1                                    ['#LG', '#LGVietnam']\n",
       "2        ['#LG', '#LGVietnam', '#lifeisgood', '#LGPuriC...\n",
       "3                            ['#LGVietnam', '#LGTONESL6S']\n",
       "4           ['#LG', '#LGVietnam', '#ThinQ', '#LifeisGood']\n",
       "                               ...                        \n",
       "42544    ['#DễnhưănCake', '#DeNhuAnCake', '#NganhangsoC...\n",
       "42545    ['#DễnhưănCake', '#DeNhuAnCake', '#NganhangsoC...\n",
       "42546    ['#DễnhưănCake', '#DeNhuAnCake', '#Nganhan...\n",
       "42547    ['#DễnhưănCake', '#DeNhuAnCake', '#NganhangsoC...\n",
       "42548                                                   []\n",
       "Name: content, Length: 42549, dtype: object"
      ]
     },
     "execution_count": 7,
     "metadata": {},
     "output_type": "execute_result"
    }
   ],
   "source": [
    "raw_data['content'].apply(lambda s: str(re.findall(Hashtags_and_Mentions, s)))\n"
   ]
  },
  {
   "cell_type": "markdown",
   "metadata": {},
   "source": [
    "**Preprocessing**"
   ]
  },
  {
   "cell_type": "markdown",
   "metadata": {},
   "source": [
    "Remove extra space"
   ]
  },
  {
   "cell_type": "code",
   "execution_count": 8,
   "metadata": {},
   "outputs": [
    {
     "name": "stdout",
     "output_type": "stream",
     "text": [
      "content: \n",
      " Với bạn, nhà là?\n",
      "\n",
      "Là nơi để trở về sau những căng thẳng trong công việc và cuộc sống. Là nơi tràn ngập sự an lành và niềm vui bên những người thương yêu.\n",
      "\n",
      "LG sẽ cùng bạn xây dựng và tô điểm cho từng giây phút đoàn tụ đều trở thành khoảnh khắc ấm cúng nhất qua những thiết bị gia dụng thông minh, tiện lợi và đi đầu trong mọi lĩnh vực.\n",
      "\n",
      "LG - Vì cuộc sống tốt đẹp hơn: https://www.lg.com/vn/\n",
      "\n",
      "#LGVietnam\n",
      "clean_content: \n",
      " Với bạn, nhà là? Là nơi để trở về sau những căng thẳng trong công việc và cuộc sống. Là nơi tràn ngập sự an lành và niềm vui bên những người thương yêu. LG sẽ cùng bạn xây dựng và tô điểm cho từng giây phút đoàn tụ đều trở thành khoảnh khắc ấm cúng nhất qua những thiết bị gia dụng thông minh, tiện lợi và đi đầu trong mọi lĩnh vực. LG - Vì cuộc sống tốt đẹp hơn: https://www.lg.com/vn/ #LGVietnam\n"
     ]
    }
   ],
   "source": [
    "raw_data['clean_content'] = raw_data['content'].apply(lambda s: \" \".join(s.split()))\n",
    "\n",
    "\n",
    "print('content:', '\\n', raw_data['content'].iloc[0])\n",
    "print('clean_content:', '\\n', raw_data['clean_content'].iloc[0])"
   ]
  },
  {
   "cell_type": "markdown",
   "metadata": {},
   "source": [
    "Remove links"
   ]
  },
  {
   "cell_type": "code",
   "execution_count": 9,
   "metadata": {},
   "outputs": [
    {
     "name": "stdout",
     "output_type": "stream",
     "text": [
      "content: \n",
      " ♻️ ĐẬ𝐏 - ĐẢ𝐎 - 𝐍𝐇À𝐎 - 𝐍É𝐍 - 𝐂𝐇À - 𝐐𝐔𝐀𝐘 𝐊𝐇Ô𝐍𝐆 𝐓𝐑ƯỢ𝐓 𝐏𝐇Á𝐓 𝐍À𝐎 ♻️ Với máy giặt sở hữu CÔNG NGHỆ ĐỘC QUYỀN 6 MOTION, bạn sẽ tạm biệt chuỗi ngày phải gỡ áo quần rối xoắn, đồ lại sờn rách do chế độ giặt không phù hợp. Thay vào đó, bạn có thể tận hưởng áo quần thơm sạch, đẹp bền nhờ: ☑️ Trí thông minh nhân tạo giúp xác định chất liệu vải và trọng lượng để chọn ra chuyển động giặt tối ưu từ 20.000 thói quen giặt giũ. ☑️ Đặc biệt động cơ dẫn động trực tiếp 6 Motion tạo chuyển động mô phỏng cách giặt tay uyển chuyển giúp giặt kỹ áo quần mà không khiến chúng bị quấn vào nhau. 👉 𝐌𝐮𝐚 𝐧𝐠𝐚𝐲 𝐭ạ𝐢 >>> https://bit.ly/34Qi6w4 #dienmaycholon #maygiatLG #LG\n",
      "clean_content: \n",
      " ♻️ ĐẬ𝐏 - ĐẢ𝐎 - 𝐍𝐇À𝐎 - 𝐍É𝐍 - 𝐂𝐇À - 𝐐𝐔𝐀𝐘 𝐊𝐇Ô𝐍𝐆 𝐓𝐑ƯỢ𝐓 𝐏𝐇Á𝐓 𝐍À𝐎 ♻️ Với máy giặt sở hữu CÔNG NGHỆ ĐỘC QUYỀN 6 MOTION, bạn sẽ tạm biệt chuỗi ngày phải gỡ áo quần rối xoắn, đồ lại sờn rách do chế độ giặt không phù hợp. Thay vào đó, bạn có thể tận hưởng áo quần thơm sạch, đẹp bền nhờ: ☑️ Trí thông minh nhân tạo giúp xác định chất liệu vải và trọng lượng để chọn ra chuyển động giặt tối ưu từ 20.000 thói quen giặt giũ. ☑️ Đặc biệt động cơ dẫn động trực tiếp 6 Motion tạo chuyển động mô phỏng cách giặt tay uyển chuyển giúp giặt kỹ áo quần mà không khiến chúng bị quấn vào nhau. 👉 𝐌𝐮𝐚 𝐧𝐠𝐚𝐲 𝐭ạ𝐢 >>>   #dienmaycholon #maygiatLG #LG\n"
     ]
    }
   ],
   "source": [
    "raw_data['clean_content'] = raw_data['clean_content'].apply(lambda s: re.sub(Links, \" \", s))\n",
    "\n",
    "print('content:', '\\n', raw_data['content'].iloc[36573])\n",
    "print('clean_content:', '\\n', raw_data['clean_content'].iloc[36573])\n"
   ]
  },
  {
   "cell_type": "markdown",
   "metadata": {},
   "source": [
    "Remove email"
   ]
  },
  {
   "cell_type": "code",
   "execution_count": 10,
   "metadata": {},
   "outputs": [],
   "source": [
    "# raw_data['clean_content'] = raw_data['content'].apply(lambda s: \" \".join((re.sub(Emails, \" \", s).split())))\n",
    "\n",
    "# print('content:', '\\n', raw_data['content'].iloc[4152])\n",
    "# print('clean_content:', '\\n', raw_data['clean_content'].iloc[4152])\n"
   ]
  },
  {
   "cell_type": "markdown",
   "metadata": {},
   "source": [
    "Remove emojis"
   ]
  },
  {
   "cell_type": "code",
   "execution_count": 11,
   "metadata": {},
   "outputs": [],
   "source": [
    "# raw_data['clean_content'] = raw_data['clean_content'].apply(lambda s: demoji.replace(s, \"\"))\n",
    "\n",
    "# print('content:', raw_data['content'].iloc[30842])\n",
    "# print('clean_content:', raw_data['clean_content'].iloc[30842])\n"
   ]
  },
  {
   "cell_type": "markdown",
   "metadata": {},
   "source": [
    "Remove Hashtags and Mentions"
   ]
  },
  {
   "cell_type": "code",
   "execution_count": 12,
   "metadata": {},
   "outputs": [],
   "source": [
    "raw_data['clean_content'] = raw_data['clean_content'].apply(lambda s: (re.sub(Hashtags_and_Mentions, \" \", s)))\n"
   ]
  },
  {
   "cell_type": "code",
   "execution_count": 13,
   "metadata": {},
   "outputs": [
    {
     "name": "stdout",
     "output_type": "stream",
     "text": [
      "Độc đáo với công nghệ lọc 360°, Máy lọc không khí LG PuriCare không chỉ giúp bạn lọc sạch hoàn toàn bụi khuẩn, mùi hôi mà còn lan tỏa khí sạch đến mọi ngóc ngách, dù bạn đặt máy ở bất kỳ vị trí nào trong căn phòng.\n",
      "\n",
      "Khám phá chi tiết sản phẩm tại: http://lge.ai/6177G6UjV\n",
      "\n",
      "#LG #LGVietnam #lifeisgood #LGPuriCareVietnam #PuriCare #ThanhLocKhongKhi #airpurify #protecthealth #healthcare #safeair #family #bestchoice #stayhome #staysafe #staystrong #covid #healthylife \n",
      "\n",
      "Độc đáo với công nghệ lọc 360°, Máy lọc không khí LG PuriCare không chỉ giúp bạn lọc sạch hoàn toàn bụi khuẩn, mùi hôi mà còn lan tỏa khí sạch đến mọi ngóc ngách, dù bạn đặt máy ở bất kỳ vị trí nào trong căn phòng. Khám phá chi tiết sản phẩm tại:                                    \n"
     ]
    }
   ],
   "source": [
    "print(raw_data['content'].iloc[2], '\\n')\n",
    "print(raw_data['clean_content'].iloc[2])"
   ]
  },
  {
   "cell_type": "markdown",
   "metadata": {},
   "source": [
    "Convert emotion and emticon to word"
   ]
  },
  {
   "cell_type": "code",
   "execution_count": 14,
   "metadata": {},
   "outputs": [
    {
     "name": "stderr",
     "output_type": "stream",
     "text": [
      "/Users/HPhuc/miniconda3/envs/env1/lib/python3.7/site-packages/ipykernel_launcher.py:1: FutureWarning: The demoji.download_codes attribute is deprecated and will be removed from demoji in a future version. It is an unused attribute as emoji codes are now distributed directly with the demoji package.\n",
      "  \"\"\"Entry point for launching an IPython kernel.\n"
     ]
    }
   ],
   "source": [
    "demoji.download_codes()"
   ]
  },
  {
   "cell_type": "code",
   "execution_count": 15,
   "metadata": {},
   "outputs": [
    {
     "name": "stdout",
     "output_type": "stream",
     "text": [
      "...multiprocessing...\n"
     ]
    },
    {
     "name": "stderr",
     "output_type": "stream",
     "text": [
      "100%|██████████| 42549/42549 [00:35<00:00, 1186.97it/s]\n"
     ]
    }
   ],
   "source": [
    "def emoji_to_words(idc):\n",
    "    text = raw_data['clean_content'].iloc[idc]\n",
    "    etow = [demoji.replace_with_desc(text, sep=\"__\")]\n",
    "\n",
    "    return etow\n",
    "\n",
    "raw_data['clean_content'] = pd.DataFrame(multiprocess(emoji_to_words, range(raw_data.shape[0]), workers=6))\n"
   ]
  },
  {
   "cell_type": "code",
   "execution_count": 16,
   "metadata": {},
   "outputs": [
    {
     "name": "stdout",
     "output_type": "stream",
     "text": [
      "𝐵𝐿𝐴𝐶𝐾 𝐹𝑅𝐼𝐷𝐴𝑌 𝐌Á𝐘 𝐆𝐈Ặ𝐓 𝐏𝐀𝐍𝐀𝐒𝐎𝐍𝐈𝐂 𝟗.𝟎 𝐊𝐆 𝐆𝐈Ả𝐌 𝐒Ố𝐂 𝟏.𝟑 𝐓𝐑𝐈Ệ𝐔 Giờ không mua thì đợi đến năm sau - ĐỪNG BỎ LỠ !! ⭐ Máy giặt Panasonic 9.0 Kg F90VS9 giảm 1 triệu ⏩ Giá Black Friday còn: 4.790.000đ (was: 5̶.̶9̶9̶0̶.̶0̶0̶0̶đ̶) - Giảm 1 Triệu Khi Mua Bộ Nồi Elmich - Nhập khẩu châu Âu - Tặng bộ PMH trị giá 700.000Đ MUA NGAY >> https://bit.ly/35LseFa ► Chỉ áp dụng đến 01.12.2019 trên toàn hệ thống Điện Máy Chợ Lớn ► Liên hệ ngay hotline: 028 3856 3388 để hỗ trợ đặt hàng và giao hàng tận nơi ----------- Nhận thêm ưu đãi đặc quyền: -  𝑻ặ𝒏𝒈 𝒏𝒈𝒂𝒚 𝒎á𝒚 𝒑𝒉𝒂 𝑪à 𝒑𝒉ê khi thanh toán bằng thẻ thanh toán quốc tế của ACB, VP Bank, BIDV, VIB, Viettinbank  trên máy POS đặt tại một trong các chi nhánh Điện Máy Chợ Lớn -  Đặ𝐜 𝐛𝐢ệ𝐭 𝐠𝐢ả𝐦 𝐭𝐡ê𝐦 𝟓𝟎𝟎.𝟎𝟎𝟎đ khi thanh toán bằng thẻ thanh toán quốc tế BIDV cho đơn hàng từ 7.000.000đ => Tham khảo thêm chi tiết ưu đãi tại >> https://bit.ly/35tcXZr #dienmaycholon #panasonic #maygiat \n",
      "\n",
      "𝐵𝐿𝐴𝐶𝐾 𝐹𝑅𝐼𝐷𝐴𝑌 𝐌Á𝐘 𝐆𝐈Ặ𝐓 𝐏𝐀𝐍𝐀𝐒𝐎𝐍𝐈𝐂 𝟗.𝟎 𝐊𝐆 𝐆𝐈Ả𝐌 𝐒Ố𝐂 𝟏.𝟑 𝐓𝐑𝐈Ệ𝐔 Giờ không mua thì đợi đến năm sau - ĐỪNG BỎ LỠ !! __star__ Máy giặt Panasonic 9.0 Kg F90VS9 giảm 1 triệu __fast-forward button__ Giá Black Friday còn: 4.790.000đ (was: 5̶.̶9̶9̶0̶.̶0̶0̶0̶đ̶) - Giảm 1 Triệu Khi Mua Bộ Nồi Elmich - Nhập khẩu châu Âu - Tặng bộ PMH trị giá 700.000Đ MUA NGAY >>   ► Chỉ áp dụng đến 01.12.2019 trên toàn hệ thống Điện Máy Chợ Lớn ► Liên hệ ngay hotline: 028 3856 3388 để hỗ trợ đặt hàng và giao hàng tận nơi ----------- Nhận thêm ưu đãi đặc quyền: - 𝑻ặ𝒏𝒈 𝒏𝒈𝒂𝒚 𝒎á𝒚 𝒑𝒉𝒂 𝑪à 𝒑𝒉ê khi thanh toán bằng thẻ thanh toán quốc tế của ACB, VP Bank, BIDV, VIB, Viettinbank trên máy POS đặt tại một trong các chi nhánh Điện Máy Chợ Lớn - Đặ𝐜 𝐛𝐢ệ𝐭 𝐠𝐢ả𝐦 𝐭𝐡ê𝐦 𝟓𝟎𝟎.𝟎𝟎𝟎đ khi thanh toán bằng thẻ thanh toán quốc tế BIDV cho đơn hàng từ 7.000.000đ => Tham khảo thêm chi tiết ưu đãi tại >>        \n"
     ]
    }
   ],
   "source": [
    "print(raw_data['content'].iloc[37784], '\\n')\n",
    "print(raw_data['clean_content'].iloc[37784])\n"
   ]
  },
  {
   "cell_type": "markdown",
   "metadata": {},
   "source": [
    "Replace number, date, mail by general token"
   ]
  },
  {
   "cell_type": "code",
   "execution_count": 17,
   "metadata": {},
   "outputs": [],
   "source": [
    "raw_data['clean_content'] = raw_data['clean_content'].apply(lambda s: re.sub(Numbers, \"<number>\", s))\n"
   ]
  },
  {
   "cell_type": "code",
   "execution_count": 18,
   "metadata": {},
   "outputs": [
    {
     "name": "stdout",
     "output_type": "stream",
     "text": [
      "𝐵𝐿𝐴𝐶𝐾 𝐹𝑅𝐼𝐷𝐴𝑌 𝐌Á𝐘 𝐆𝐈Ặ𝐓 𝐏𝐀𝐍𝐀𝐒𝐎𝐍𝐈𝐂 𝟗.𝟎 𝐊𝐆 𝐆𝐈Ả𝐌 𝐒Ố𝐂 𝟏.𝟑 𝐓𝐑𝐈Ệ𝐔 Giờ không mua thì đợi đến năm sau - ĐỪNG BỎ LỠ !! ⭐ Máy giặt Panasonic 9.0 Kg F90VS9 giảm 1 triệu ⏩ Giá Black Friday còn: 4.790.000đ (was: 5̶.̶9̶9̶0̶.̶0̶0̶0̶đ̶) - Giảm 1 Triệu Khi Mua Bộ Nồi Elmich - Nhập khẩu châu Âu - Tặng bộ PMH trị giá 700.000Đ MUA NGAY >> https://bit.ly/35LseFa ► Chỉ áp dụng đến 01.12.2019 trên toàn hệ thống Điện Máy Chợ Lớn ► Liên hệ ngay hotline: 028 3856 3388 để hỗ trợ đặt hàng và giao hàng tận nơi ----------- Nhận thêm ưu đãi đặc quyền: -  𝑻ặ𝒏𝒈 𝒏𝒈𝒂𝒚 𝒎á𝒚 𝒑𝒉𝒂 𝑪à 𝒑𝒉ê khi thanh toán bằng thẻ thanh toán quốc tế của ACB, VP Bank, BIDV, VIB, Viettinbank  trên máy POS đặt tại một trong các chi nhánh Điện Máy Chợ Lớn -  Đặ𝐜 𝐛𝐢ệ𝐭 𝐠𝐢ả𝐦 𝐭𝐡ê𝐦 𝟓𝟎𝟎.𝟎𝟎𝟎đ khi thanh toán bằng thẻ thanh toán quốc tế BIDV cho đơn hàng từ 7.000.000đ => Tham khảo thêm chi tiết ưu đãi tại >> https://bit.ly/35tcXZr #dienmaycholon #panasonic #maygiat \n",
      "\n",
      "𝐵𝐿𝐴𝐶𝐾 𝐹𝑅𝐼𝐷𝐴𝑌 𝐌Á𝐘 𝐆𝐈Ặ𝐓 𝐏𝐀𝐍𝐀𝐒𝐎𝐍𝐈𝐂 <number>.<number> 𝐊𝐆 𝐆𝐈Ả𝐌 𝐒Ố𝐂 <number>.<number> 𝐓𝐑𝐈Ệ𝐔 Giờ không mua thì đợi đến năm sau - ĐỪNG BỎ LỠ !! __star__ Máy giặt Panasonic <number>.<number> Kg F<number>VS<number> giảm <number> triệu __fast-forward button__ Giá Black Friday còn: <number>.<number>.<number>đ (was: <number>̶.̶<number>̶<number>̶<number>̶.̶<number>̶<number>̶<number>̶đ̶) - Giảm <number> Triệu Khi Mua Bộ Nồi Elmich - Nhập khẩu châu Âu - Tặng bộ PMH trị giá <number>.<number>Đ MUA NGAY >>   ► Chỉ áp dụng đến <number>.<number>.<number> trên toàn hệ thống Điện Máy Chợ Lớn ► Liên hệ ngay hotline: <number> <number> <number> để hỗ trợ đặt hàng và giao hàng tận nơi ----------- Nhận thêm ưu đãi đặc quyền: - 𝑻ặ𝒏𝒈 𝒏𝒈𝒂𝒚 𝒎á𝒚 𝒑𝒉𝒂 𝑪à 𝒑𝒉ê khi thanh toán bằng thẻ thanh toán quốc tế của ACB, VP Bank, BIDV, VIB, Viettinbank trên máy POS đặt tại một trong các chi nhánh Điện Máy Chợ Lớn - Đặ𝐜 𝐛𝐢ệ𝐭 𝐠𝐢ả𝐦 𝐭𝐡ê𝐦 <number>.<number>đ khi thanh toán bằng thẻ thanh toán quốc tế BIDV cho đơn hàng từ <number>.<number>.<number>đ => Tham khảo thêm chi tiết ưu đãi tại >>        \n"
     ]
    }
   ],
   "source": [
    "print(raw_data['content'].iloc[37784], '\\n')\n",
    "print(raw_data['clean_content'].iloc[37784])"
   ]
  },
  {
   "cell_type": "markdown",
   "metadata": {},
   "source": [
    "Unicode Normalization"
   ]
  },
  {
   "cell_type": "code",
   "execution_count": 19,
   "metadata": {},
   "outputs": [],
   "source": [
    "raw_data['clean_content'] = raw_data['clean_content'].apply(lambda s: unicodedata.normalize(\"NFKC\", s))\n"
   ]
  },
  {
   "cell_type": "code",
   "execution_count": 20,
   "metadata": {},
   "outputs": [
    {
     "name": "stdout",
     "output_type": "stream",
     "text": [
      "𝐵𝐿𝐴𝐶𝐾 𝐹𝑅𝐼𝐷𝐴𝑌 𝐌Á𝐘 𝐆𝐈Ặ𝐓 𝐏𝐀𝐍𝐀𝐒𝐎𝐍𝐈𝐂 𝟗.𝟎 𝐊𝐆 𝐆𝐈Ả𝐌 𝐒Ố𝐂 𝟏.𝟑 𝐓𝐑𝐈Ệ𝐔 Giờ không mua thì đợi đến năm sau - ĐỪNG BỎ LỠ !! ⭐ Máy giặt Panasonic 9.0 Kg F90VS9 giảm 1 triệu ⏩ Giá Black Friday còn: 4.790.000đ (was: 5̶.̶9̶9̶0̶.̶0̶0̶0̶đ̶) - Giảm 1 Triệu Khi Mua Bộ Nồi Elmich - Nhập khẩu châu Âu - Tặng bộ PMH trị giá 700.000Đ MUA NGAY >> https://bit.ly/35LseFa ► Chỉ áp dụng đến 01.12.2019 trên toàn hệ thống Điện Máy Chợ Lớn ► Liên hệ ngay hotline: 028 3856 3388 để hỗ trợ đặt hàng và giao hàng tận nơi ----------- Nhận thêm ưu đãi đặc quyền: -  𝑻ặ𝒏𝒈 𝒏𝒈𝒂𝒚 𝒎á𝒚 𝒑𝒉𝒂 𝑪à 𝒑𝒉ê khi thanh toán bằng thẻ thanh toán quốc tế của ACB, VP Bank, BIDV, VIB, Viettinbank  trên máy POS đặt tại một trong các chi nhánh Điện Máy Chợ Lớn -  Đặ𝐜 𝐛𝐢ệ𝐭 𝐠𝐢ả𝐦 𝐭𝐡ê𝐦 𝟓𝟎𝟎.𝟎𝟎𝟎đ khi thanh toán bằng thẻ thanh toán quốc tế BIDV cho đơn hàng từ 7.000.000đ => Tham khảo thêm chi tiết ưu đãi tại >> https://bit.ly/35tcXZr #dienmaycholon #panasonic #maygiat \n",
      "\n",
      "BLACK FRIDAY MÁY GIẶT PANASONIC <number>.<number> KG GIẢM SỐC <number>.<number> TRIỆU Giờ không mua thì đợi đến năm sau - ĐỪNG BỎ LỠ !! __star__ Máy giặt Panasonic <number>.<number> Kg F<number>VS<number> giảm <number> triệu __fast-forward button__ Giá Black Friday còn: <number>.<number>.<number>đ (was: <number>̶.̶<number>̶<number>̶<number>̶.̶<number>̶<number>̶<number>̶đ̶) - Giảm <number> Triệu Khi Mua Bộ Nồi Elmich - Nhập khẩu châu Âu - Tặng bộ PMH trị giá <number>.<number>Đ MUA NGAY >>   ► Chỉ áp dụng đến <number>.<number>.<number> trên toàn hệ thống Điện Máy Chợ Lớn ► Liên hệ ngay hotline: <number> <number> <number> để hỗ trợ đặt hàng và giao hàng tận nơi ----------- Nhận thêm ưu đãi đặc quyền: - Tặng ngay máy pha Cà phê khi thanh toán bằng thẻ thanh toán quốc tế của ACB, VP Bank, BIDV, VIB, Viettinbank trên máy POS đặt tại một trong các chi nhánh Điện Máy Chợ Lớn - Đặc biệt giảm thêm <number>.<number>đ khi thanh toán bằng thẻ thanh toán quốc tế BIDV cho đơn hàng từ <number>.<number>.<number>đ => Tham khảo thêm chi tiết ưu đãi tại >>        \n"
     ]
    }
   ],
   "source": [
    "print(raw_data['content'].iloc[37784], '\\n')\n",
    "print(raw_data['clean_content'].iloc[37784])"
   ]
  },
  {
   "cell_type": "markdown",
   "metadata": {},
   "source": [
    "Remove Noise"
   ]
  },
  {
   "cell_type": "code",
   "execution_count": 21,
   "metadata": {},
   "outputs": [],
   "source": [
    "# non-ascii and digits\n",
    "raw_data['clean_content'] = raw_data['clean_content'].apply(lambda s: (re.sub(Noise, \" \", s)))\n"
   ]
  },
  {
   "cell_type": "code",
   "execution_count": 22,
   "metadata": {},
   "outputs": [
    {
     "name": "stdout",
     "output_type": "stream",
     "text": [
      "𝐵𝐿𝐴𝐶𝐾 𝐹𝑅𝐼𝐷𝐴𝑌 𝐌Á𝐘 𝐆𝐈Ặ𝐓 𝐏𝐀𝐍𝐀𝐒𝐎𝐍𝐈𝐂 𝟗.𝟎 𝐊𝐆 𝐆𝐈Ả𝐌 𝐒Ố𝐂 𝟏.𝟑 𝐓𝐑𝐈Ệ𝐔 Giờ không mua thì đợi đến năm sau - ĐỪNG BỎ LỠ !! ⭐ Máy giặt Panasonic 9.0 Kg F90VS9 giảm 1 triệu ⏩ Giá Black Friday còn: 4.790.000đ (was: 5̶.̶9̶9̶0̶.̶0̶0̶0̶đ̶) - Giảm 1 Triệu Khi Mua Bộ Nồi Elmich - Nhập khẩu châu Âu - Tặng bộ PMH trị giá 700.000Đ MUA NGAY >> https://bit.ly/35LseFa ► Chỉ áp dụng đến 01.12.2019 trên toàn hệ thống Điện Máy Chợ Lớn ► Liên hệ ngay hotline: 028 3856 3388 để hỗ trợ đặt hàng và giao hàng tận nơi ----------- Nhận thêm ưu đãi đặc quyền: -  𝑻ặ𝒏𝒈 𝒏𝒈𝒂𝒚 𝒎á𝒚 𝒑𝒉𝒂 𝑪à 𝒑𝒉ê khi thanh toán bằng thẻ thanh toán quốc tế của ACB, VP Bank, BIDV, VIB, Viettinbank  trên máy POS đặt tại một trong các chi nhánh Điện Máy Chợ Lớn -  Đặ𝐜 𝐛𝐢ệ𝐭 𝐠𝐢ả𝐦 𝐭𝐡ê𝐦 𝟓𝟎𝟎.𝟎𝟎𝟎đ khi thanh toán bằng thẻ thanh toán quốc tế BIDV cho đơn hàng từ 7.000.000đ => Tham khảo thêm chi tiết ưu đãi tại >> https://bit.ly/35tcXZr #dienmaycholon #panasonic #maygiat \n",
      "\n",
      "BLACK FRIDAY MÁY GIẶT PANASONIC  number   number  KG GIẢM SỐC  number   number  TRIỆU Giờ không mua thì đợi đến năm sau   ĐỪNG BỎ LỠ    __star__ Máy giặt Panasonic  number   number  Kg F number VS number  giảm  number  triệu __fast forward button__ Giá Black Friday còn   number   number   number đ  was   number     number   number   number     number   number   number  đ     Giảm  number  Triệu Khi Mua Bộ Nồi Elmich   Nhập khẩu châu Âu   Tặng bộ PMH trị giá  number   number Đ MUA NGAY        Chỉ áp dụng đến  number   number   number  trên toàn hệ thống Điện Máy Chợ Lớn   Liên hệ ngay hotline   number   number   number  để hỗ trợ đặt hàng và giao hàng tận nơi             Nhận thêm ưu đãi đặc quyền    Tặng ngay máy pha Cà phê khi thanh toán bằng thẻ thanh toán quốc tế của ACB  VP Bank  BIDV  VIB  Viettinbank trên máy POS đặt tại một trong các chi nhánh Điện Máy Chợ Lớn   Đặc biệt giảm thêm  number   number đ khi thanh toán bằng thẻ thanh toán quốc tế BIDV cho đơn hàng từ  number   number   number đ    Tham khảo thêm chi tiết ưu đãi tại           \n"
     ]
    }
   ],
   "source": [
    "print(raw_data['content'].iloc[37784], '\\n')\n",
    "print(raw_data['clean_content'].iloc[37784])"
   ]
  },
  {
   "cell_type": "markdown",
   "metadata": {},
   "source": [
    "Word Segmentation"
   ]
  },
  {
   "cell_type": "code",
   "execution_count": 23,
   "metadata": {},
   "outputs": [
    {
     "name": "stdout",
     "output_type": "stream",
     "text": [
      "...multiprocessing...\n"
     ]
    },
    {
     "name": "stderr",
     "output_type": "stream",
     "text": [
      "100%|██████████| 42549/42549 [02:28<00:00, 286.59it/s] \n"
     ]
    }
   ],
   "source": [
    "from underthesea import word_tokenize\n",
    "\n",
    "def tokenize_word(idc):\n",
    "    text = raw_data['clean_content'].iloc[idc]\n",
    "    tokenized_word = [word_tokenize(text, format=\"text\")]\n",
    "    \n",
    "    return tokenized_word\n",
    "\n",
    "raw_data['clean_content'] = multiprocess(tokenize_word, range(raw_data.shape[0]), workers=7)\n"
   ]
  },
  {
   "cell_type": "code",
   "execution_count": 24,
   "metadata": {},
   "outputs": [
    {
     "name": "stdout",
     "output_type": "stream",
     "text": [
      "𝐵𝐿𝐴𝐶𝐾 𝐹𝑅𝐼𝐷𝐴𝑌 𝐌Á𝐘 𝐆𝐈Ặ𝐓 𝐏𝐀𝐍𝐀𝐒𝐎𝐍𝐈𝐂 𝟗.𝟎 𝐊𝐆 𝐆𝐈Ả𝐌 𝐒Ố𝐂 𝟏.𝟑 𝐓𝐑𝐈Ệ𝐔 Giờ không mua thì đợi đến năm sau - ĐỪNG BỎ LỠ !! ⭐ Máy giặt Panasonic 9.0 Kg F90VS9 giảm 1 triệu ⏩ Giá Black Friday còn: 4.790.000đ (was: 5̶.̶9̶9̶0̶.̶0̶0̶0̶đ̶) - Giảm 1 Triệu Khi Mua Bộ Nồi Elmich - Nhập khẩu châu Âu - Tặng bộ PMH trị giá 700.000Đ MUA NGAY >> https://bit.ly/35LseFa ► Chỉ áp dụng đến 01.12.2019 trên toàn hệ thống Điện Máy Chợ Lớn ► Liên hệ ngay hotline: 028 3856 3388 để hỗ trợ đặt hàng và giao hàng tận nơi ----------- Nhận thêm ưu đãi đặc quyền: -  𝑻ặ𝒏𝒈 𝒏𝒈𝒂𝒚 𝒎á𝒚 𝒑𝒉𝒂 𝑪à 𝒑𝒉ê khi thanh toán bằng thẻ thanh toán quốc tế của ACB, VP Bank, BIDV, VIB, Viettinbank  trên máy POS đặt tại một trong các chi nhánh Điện Máy Chợ Lớn -  Đặ𝐜 𝐛𝐢ệ𝐭 𝐠𝐢ả𝐦 𝐭𝐡ê𝐦 𝟓𝟎𝟎.𝟎𝟎𝟎đ khi thanh toán bằng thẻ thanh toán quốc tế BIDV cho đơn hàng từ 7.000.000đ => Tham khảo thêm chi tiết ưu đãi tại >> https://bit.ly/35tcXZr #dienmaycholon #panasonic #maygiat \n",
      "\n",
      "['BLACK FRIDAY MÁY_GIẶT PANASONIC number number KG GIẢM SỐC number number TRIỆU Giờ không mua thì đợi đến năm sau ĐỪNG BỎ_LỠ __star__ Máy_giặt Panasonic number number Kg_F number VS_number giảm number triệu __fast forward button__ Giá_Black_Friday còn number number number đ was number number number number number number number đ Giảm number Triệu Khi Mua Bộ Nồi Elmich Nhập_khẩu châu_Âu Tặng bộ PMH trị_giá number number Đ MUA NGAY_Chỉ áp_dụng đến number number number trên toàn hệ_thống Điện_Máy Chợ_Lớn Liên_hệ ngay hotline number number number để hỗ_trợ đặt_hàng và giao hàng tận nơi Nhận thêm ưu_đãi đặc_quyền Tặng ngay máy pha Cà_phê khi thanh_toán bằng thẻ thanh_toán quốc_tế của ACB_VP_Bank_BIDV_VIB_Viettinbank trên máy POS đặt tại một trong các chi_nhánh Điện_Máy Chợ_Lớn Đặc_biệt giảm thêm number number đ khi thanh_toán bằng thẻ thanh_toán quốc_tế BIDV cho đơn hàng từ number number number đ Tham_khảo thêm chi_tiết ưu_đãi tại']\n"
     ]
    }
   ],
   "source": [
    "print(raw_data['content'].iloc[37784], '\\n')\n",
    "print(raw_data['clean_content'].iloc[37784])"
   ]
  },
  {
   "cell_type": "code",
   "execution_count": 25,
   "metadata": {},
   "outputs": [
    {
     "data": {
      "text/html": [
       "<div>\n",
       "<style scoped>\n",
       "    .dataframe tbody tr th:only-of-type {\n",
       "        vertical-align: middle;\n",
       "    }\n",
       "\n",
       "    .dataframe tbody tr th {\n",
       "        vertical-align: top;\n",
       "    }\n",
       "\n",
       "    .dataframe thead th {\n",
       "        text-align: right;\n",
       "    }\n",
       "</style>\n",
       "<table border=\"1\" class=\"dataframe\">\n",
       "  <thead>\n",
       "    <tr style=\"text-align: right;\">\n",
       "      <th></th>\n",
       "      <th>content</th>\n",
       "      <th>label</th>\n",
       "      <th>clean_content</th>\n",
       "    </tr>\n",
       "  </thead>\n",
       "  <tbody>\n",
       "    <tr>\n",
       "      <th>0</th>\n",
       "      <td>Với bạn, nhà là?\\n\\nLà nơi để trở về sau những...</td>\n",
       "      <td>LG_MarketingContent</td>\n",
       "      <td>[Với bạn nhà là Là nơi để trở về sau những căn...</td>\n",
       "    </tr>\n",
       "    <tr>\n",
       "      <th>1</th>\n",
       "      <td>CHỦ THẺ ĐÓN LỢI THẾ, NHẬN ƯU ĐÃI TỚI 36%\\n\\nƯu...</td>\n",
       "      <td>LG_MarketingContent</td>\n",
       "      <td>[CHỦ THẺ ĐÓN LỢI_THẾ_NHẬN ƯU_ĐÃI TỚI number Ưu...</td>\n",
       "    </tr>\n",
       "    <tr>\n",
       "      <th>2</th>\n",
       "      <td>Độc đáo với công nghệ lọc 360°, Máy lọc không ...</td>\n",
       "      <td>LG_MarketingContent</td>\n",
       "      <td>[Độc_đáo với công_nghệ lọc number Máy lọc khôn...</td>\n",
       "    </tr>\n",
       "    <tr>\n",
       "      <th>3</th>\n",
       "      <td>Chill nhạc chất, an toàn là nhất\\n\\nLG mong mu...</td>\n",
       "      <td>LG_MarketingContent</td>\n",
       "      <td>[Chill nhạc chất an_toàn là nhất LG mong_muốn ...</td>\n",
       "    </tr>\n",
       "    <tr>\n",
       "      <th>4</th>\n",
       "      <td>VÌ YÊU CON NÊN MẸ KHÓ?\\nCỨ ĐỂ THINQ LO\\n\\nMuốn...</td>\n",
       "      <td>LG_MarketingContent</td>\n",
       "      <td>[VÌ YÊU CON NÊN MẸ KHÓ CỨ ĐỂ THINQ_LO Muốn chă...</td>\n",
       "    </tr>\n",
       "    <tr>\n",
       "      <th>...</th>\n",
       "      <td>...</td>\n",
       "      <td>...</td>\n",
       "      <td>...</td>\n",
       "    </tr>\n",
       "    <tr>\n",
       "      <th>42544</th>\n",
       "      <td>🍭 Chào mừng bạn đến lớp học của CAKE!! Để xây ...</td>\n",
       "      <td>nguyenvt_raw</td>\n",
       "      <td>[__lollipop__ Chào_mừng bạn đến lớp_học của CA...</td>\n",
       "    </tr>\n",
       "    <tr>\n",
       "      <th>42545</th>\n",
       "      <td>🍩Mỹ phẩm đã sản xuất theo lít thì Cake cũng bo...</td>\n",
       "      <td>nguyenvt_raw</td>\n",
       "      <td>[__doughnut__Mỹ phẩm đã sản_xuất theo lít thì ...</td>\n",
       "    </tr>\n",
       "    <tr>\n",
       "      <th>42546</th>\n",
       "      <td>Sống dễ (v) /ngồi nhà hưởng 5.2% lã...</td>\n",
       "      <td>nguyenvt_raw</td>\n",
       "      <td>[Sống dễ v ngồi nhà hưởng number number lãi_su...</td>\n",
       "    </tr>\n",
       "    <tr>\n",
       "      <th>42547</th>\n",
       "      <td>🌈Chúc mừng ngày Quốc Tế LGBT🌈 🍫Tha hồ chọn cho...</td>\n",
       "      <td>nguyenvt_raw</td>\n",
       "      <td>[__rainbow__Chúc mừng ngày Quốc_Tế LGBT__rainb...</td>\n",
       "    </tr>\n",
       "    <tr>\n",
       "      <th>42548</th>\n",
       "      <td>Happy Pride Day &lt;3Chúc mừng Ngày Tự hào &lt;3 · X...</td>\n",
       "      <td>nguyenvt_raw</td>\n",
       "      <td>[Happy Pride_Day number Chúc_mừng Ngày Tự_hào ...</td>\n",
       "    </tr>\n",
       "  </tbody>\n",
       "</table>\n",
       "<p>42549 rows × 3 columns</p>\n",
       "</div>"
      ],
      "text/plain": [
       "                                                 content                label  \\\n",
       "0      Với bạn, nhà là?\\n\\nLà nơi để trở về sau những...  LG_MarketingContent   \n",
       "1      CHỦ THẺ ĐÓN LỢI THẾ, NHẬN ƯU ĐÃI TỚI 36%\\n\\nƯu...  LG_MarketingContent   \n",
       "2      Độc đáo với công nghệ lọc 360°, Máy lọc không ...  LG_MarketingContent   \n",
       "3      Chill nhạc chất, an toàn là nhất\\n\\nLG mong mu...  LG_MarketingContent   \n",
       "4      VÌ YÊU CON NÊN MẸ KHÓ?\\nCỨ ĐỂ THINQ LO\\n\\nMuốn...  LG_MarketingContent   \n",
       "...                                                  ...                  ...   \n",
       "42544  🍭 Chào mừng bạn đến lớp học của CAKE!! Để xây ...         nguyenvt_raw   \n",
       "42545  🍩Mỹ phẩm đã sản xuất theo lít thì Cake cũng bo...         nguyenvt_raw   \n",
       "42546  Sống dễ (v) /ngồi nhà hưởng 5.2% lã...         nguyenvt_raw   \n",
       "42547  🌈Chúc mừng ngày Quốc Tế LGBT🌈 🍫Tha hồ chọn cho...         nguyenvt_raw   \n",
       "42548  Happy Pride Day <3Chúc mừng Ngày Tự hào <3 · X...         nguyenvt_raw   \n",
       "\n",
       "                                           clean_content  \n",
       "0      [Với bạn nhà là Là nơi để trở về sau những căn...  \n",
       "1      [CHỦ THẺ ĐÓN LỢI_THẾ_NHẬN ƯU_ĐÃI TỚI number Ưu...  \n",
       "2      [Độc_đáo với công_nghệ lọc number Máy lọc khôn...  \n",
       "3      [Chill nhạc chất an_toàn là nhất LG mong_muốn ...  \n",
       "4      [VÌ YÊU CON NÊN MẸ KHÓ CỨ ĐỂ THINQ_LO Muốn chă...  \n",
       "...                                                  ...  \n",
       "42544  [__lollipop__ Chào_mừng bạn đến lớp_học của CA...  \n",
       "42545  [__doughnut__Mỹ phẩm đã sản_xuất theo lít thì ...  \n",
       "42546  [Sống dễ v ngồi nhà hưởng number number lãi_su...  \n",
       "42547  [__rainbow__Chúc mừng ngày Quốc_Tế LGBT__rainb...  \n",
       "42548  [Happy Pride_Day number Chúc_mừng Ngày Tự_hào ...  \n",
       "\n",
       "[42549 rows x 3 columns]"
      ]
     },
     "execution_count": 25,
     "metadata": {},
     "output_type": "execute_result"
    }
   ],
   "source": [
    "raw_data"
   ]
  },
  {
   "cell_type": "code",
   "execution_count": null,
   "metadata": {},
   "outputs": [],
   "source": []
  }
 ],
 "metadata": {
  "interpreter": {
   "hash": "73debb880a198c180bbd222a47dda85b4338a84f60caf5c95fac3f32e5ae8937"
  },
  "kernelspec": {
   "display_name": "Python 3.7.0 ('env1')",
   "language": "python",
   "name": "python3"
  },
  "language_info": {
   "codemirror_mode": {
    "name": "ipython",
    "version": 3
   },
   "file_extension": ".py",
   "mimetype": "text/x-python",
   "name": "python",
   "nbconvert_exporter": "python",
   "pygments_lexer": "ipython3",
   "version": "3.7.13"
  },
  "orig_nbformat": 4
 },
 "nbformat": 4,
 "nbformat_minor": 2
}
