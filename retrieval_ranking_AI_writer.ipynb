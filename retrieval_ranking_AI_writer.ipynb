{
  "cells": [
    {
      "cell_type": "code",
      "execution_count": 1,
      "metadata": {
        "id": "V25YPt9FcEhp",
        "colab": {
          "base_uri": "https://localhost:8080/"
        },
        "outputId": "af6273fa-f25f-4164-a1c6-7f36fda14f41"
      },
      "outputs": [
        {
          "output_type": "stream",
          "name": "stdout",
          "text": [
            "Drive already mounted at /content/drive; to attempt to forcibly remount, call drive.mount(\"/content/drive\", force_remount=True).\n"
          ]
        }
      ],
      "source": [
        "from google.colab import drive\n",
        "drive.mount('/content/drive')\n"
      ]
    },
    {
      "cell_type": "code",
      "source": [
        "%cd '/content/drive/MyDrive/AI_writer'"
      ],
      "metadata": {
        "id": "kKI03LJccIFS",
        "colab": {
          "base_uri": "https://localhost:8080/"
        },
        "outputId": "8558f049-dbf8-46a0-83ad-7732dfd1688b"
      },
      "execution_count": 2,
      "outputs": [
        {
          "output_type": "stream",
          "name": "stdout",
          "text": [
            "/content/drive/MyDrive/AI_writer\n"
          ]
        }
      ]
    },
    {
      "cell_type": "code",
      "source": [
        "!pip install underthesea\n",
        "!pip install transformers\n",
        "!pip install faiss-cpu \n",
        "!pip install pyvi"
      ],
      "metadata": {
        "id": "U7w1O3-EdZQ8",
        "colab": {
          "base_uri": "https://localhost:8080/"
        },
        "outputId": "95ed67a9-1587-4492-b15f-6a8f62595d4b"
      },
      "execution_count": 3,
      "outputs": [
        {
          "output_type": "stream",
          "name": "stdout",
          "text": [
            "Looking in indexes: https://pypi.org/simple, https://us-python.pkg.dev/colab-wheels/public/simple/\n",
            "Requirement already satisfied: underthesea in /usr/local/lib/python3.7/dist-packages (1.3.4)\n",
            "Requirement already satisfied: nltk in /usr/local/lib/python3.7/dist-packages (from underthesea) (3.7)\n",
            "Requirement already satisfied: PyYAML in /usr/local/lib/python3.7/dist-packages (from underthesea) (6.0)\n",
            "Requirement already satisfied: requests in /usr/local/lib/python3.7/dist-packages (from underthesea) (2.23.0)\n",
            "Requirement already satisfied: python-crfsuite>=0.9.6 in /usr/local/lib/python3.7/dist-packages (from underthesea) (0.9.8)\n",
            "Requirement already satisfied: tqdm in /usr/local/lib/python3.7/dist-packages (from underthesea) (4.64.0)\n",
            "Requirement already satisfied: underthesea-core==0.0.4_alpha.10 in /usr/local/lib/python3.7/dist-packages (from underthesea) (0.0.4a10)\n",
            "Requirement already satisfied: unidecode in /usr/local/lib/python3.7/dist-packages (from underthesea) (1.3.4)\n",
            "Requirement already satisfied: joblib in /usr/local/lib/python3.7/dist-packages (from underthesea) (1.1.0)\n",
            "Requirement already satisfied: scikit-learn in /usr/local/lib/python3.7/dist-packages (from underthesea) (1.0.2)\n",
            "Requirement already satisfied: Click>=6.0 in /usr/local/lib/python3.7/dist-packages (from underthesea) (7.1.2)\n",
            "Requirement already satisfied: regex>=2021.8.3 in /usr/local/lib/python3.7/dist-packages (from nltk->underthesea) (2022.6.2)\n",
            "Requirement already satisfied: chardet<4,>=3.0.2 in /usr/local/lib/python3.7/dist-packages (from requests->underthesea) (3.0.4)\n",
            "Requirement already satisfied: urllib3!=1.25.0,!=1.25.1,<1.26,>=1.21.1 in /usr/local/lib/python3.7/dist-packages (from requests->underthesea) (1.24.3)\n",
            "Requirement already satisfied: idna<3,>=2.5 in /usr/local/lib/python3.7/dist-packages (from requests->underthesea) (2.10)\n",
            "Requirement already satisfied: certifi>=2017.4.17 in /usr/local/lib/python3.7/dist-packages (from requests->underthesea) (2022.6.15)\n",
            "Requirement already satisfied: threadpoolctl>=2.0.0 in /usr/local/lib/python3.7/dist-packages (from scikit-learn->underthesea) (3.1.0)\n",
            "Requirement already satisfied: scipy>=1.1.0 in /usr/local/lib/python3.7/dist-packages (from scikit-learn->underthesea) (1.4.1)\n",
            "Requirement already satisfied: numpy>=1.14.6 in /usr/local/lib/python3.7/dist-packages (from scikit-learn->underthesea) (1.21.6)\n",
            "Looking in indexes: https://pypi.org/simple, https://us-python.pkg.dev/colab-wheels/public/simple/\n",
            "Requirement already satisfied: transformers in /usr/local/lib/python3.7/dist-packages (4.20.0)\n",
            "Requirement already satisfied: regex!=2019.12.17 in /usr/local/lib/python3.7/dist-packages (from transformers) (2022.6.2)\n",
            "Requirement already satisfied: packaging>=20.0 in /usr/local/lib/python3.7/dist-packages (from transformers) (21.3)\n",
            "Requirement already satisfied: requests in /usr/local/lib/python3.7/dist-packages (from transformers) (2.23.0)\n",
            "Requirement already satisfied: filelock in /usr/local/lib/python3.7/dist-packages (from transformers) (3.7.1)\n",
            "Requirement already satisfied: tokenizers!=0.11.3,<0.13,>=0.11.1 in /usr/local/lib/python3.7/dist-packages (from transformers) (0.12.1)\n",
            "Requirement already satisfied: tqdm>=4.27 in /usr/local/lib/python3.7/dist-packages (from transformers) (4.64.0)\n",
            "Requirement already satisfied: huggingface-hub<1.0,>=0.1.0 in /usr/local/lib/python3.7/dist-packages (from transformers) (0.7.0)\n",
            "Requirement already satisfied: pyyaml>=5.1 in /usr/local/lib/python3.7/dist-packages (from transformers) (6.0)\n",
            "Requirement already satisfied: numpy>=1.17 in /usr/local/lib/python3.7/dist-packages (from transformers) (1.21.6)\n",
            "Requirement already satisfied: importlib-metadata in /usr/local/lib/python3.7/dist-packages (from transformers) (4.11.4)\n",
            "Requirement already satisfied: typing-extensions>=3.7.4.3 in /usr/local/lib/python3.7/dist-packages (from huggingface-hub<1.0,>=0.1.0->transformers) (4.1.1)\n",
            "Requirement already satisfied: pyparsing!=3.0.5,>=2.0.2 in /usr/local/lib/python3.7/dist-packages (from packaging>=20.0->transformers) (3.0.9)\n",
            "Requirement already satisfied: zipp>=0.5 in /usr/local/lib/python3.7/dist-packages (from importlib-metadata->transformers) (3.8.0)\n",
            "Requirement already satisfied: certifi>=2017.4.17 in /usr/local/lib/python3.7/dist-packages (from requests->transformers) (2022.6.15)\n",
            "Requirement already satisfied: idna<3,>=2.5 in /usr/local/lib/python3.7/dist-packages (from requests->transformers) (2.10)\n",
            "Requirement already satisfied: urllib3!=1.25.0,!=1.25.1,<1.26,>=1.21.1 in /usr/local/lib/python3.7/dist-packages (from requests->transformers) (1.24.3)\n",
            "Requirement already satisfied: chardet<4,>=3.0.2 in /usr/local/lib/python3.7/dist-packages (from requests->transformers) (3.0.4)\n",
            "Looking in indexes: https://pypi.org/simple, https://us-python.pkg.dev/colab-wheels/public/simple/\n",
            "Requirement already satisfied: faiss-cpu in /usr/local/lib/python3.7/dist-packages (1.7.2)\n",
            "Looking in indexes: https://pypi.org/simple, https://us-python.pkg.dev/colab-wheels/public/simple/\n",
            "Requirement already satisfied: pyvi in /usr/local/lib/python3.7/dist-packages (0.1.1)\n",
            "Requirement already satisfied: sklearn-crfsuite in /usr/local/lib/python3.7/dist-packages (from pyvi) (0.3.6)\n",
            "Requirement already satisfied: scikit-learn in /usr/local/lib/python3.7/dist-packages (from pyvi) (1.0.2)\n",
            "Requirement already satisfied: threadpoolctl>=2.0.0 in /usr/local/lib/python3.7/dist-packages (from scikit-learn->pyvi) (3.1.0)\n",
            "Requirement already satisfied: scipy>=1.1.0 in /usr/local/lib/python3.7/dist-packages (from scikit-learn->pyvi) (1.4.1)\n",
            "Requirement already satisfied: joblib>=0.11 in /usr/local/lib/python3.7/dist-packages (from scikit-learn->pyvi) (1.1.0)\n",
            "Requirement already satisfied: numpy>=1.14.6 in /usr/local/lib/python3.7/dist-packages (from scikit-learn->pyvi) (1.21.6)\n",
            "Requirement already satisfied: python-crfsuite>=0.8.3 in /usr/local/lib/python3.7/dist-packages (from sklearn-crfsuite->pyvi) (0.9.8)\n",
            "Requirement already satisfied: tqdm>=2.0 in /usr/local/lib/python3.7/dist-packages (from sklearn-crfsuite->pyvi) (4.64.0)\n",
            "Requirement already satisfied: tabulate in /usr/local/lib/python3.7/dist-packages (from sklearn-crfsuite->pyvi) (0.8.9)\n",
            "Requirement already satisfied: six in /usr/local/lib/python3.7/dist-packages (from sklearn-crfsuite->pyvi) (1.15.0)\n"
          ]
        }
      ]
    },
    {
      "cell_type": "markdown",
      "source": [
        "Check gpu info"
      ],
      "metadata": {
        "id": "rx37o2E7kUrf"
      }
    },
    {
      "cell_type": "code",
      "source": [
        "gpu_info = !nvidia-smi\n",
        "gpu_info = '\\n'.join(gpu_info)\n",
        "if gpu_info.find('failed') >= 0:\n",
        "  print('Not connected to a GPU')\n",
        "else:\n",
        "  print(gpu_info)"
      ],
      "metadata": {
        "id": "zERZrmehkWIb",
        "colab": {
          "base_uri": "https://localhost:8080/"
        },
        "outputId": "fae66f82-1049-4e7f-a3e2-e65823338723"
      },
      "execution_count": 4,
      "outputs": [
        {
          "output_type": "stream",
          "name": "stdout",
          "text": [
            "Tue Jun 21 07:20:19 2022       \n",
            "+-----------------------------------------------------------------------------+\n",
            "| NVIDIA-SMI 460.32.03    Driver Version: 460.32.03    CUDA Version: 11.2     |\n",
            "|-------------------------------+----------------------+----------------------+\n",
            "| GPU  Name        Persistence-M| Bus-Id        Disp.A | Volatile Uncorr. ECC |\n",
            "| Fan  Temp  Perf  Pwr:Usage/Cap|         Memory-Usage | GPU-Util  Compute M. |\n",
            "|                               |                      |               MIG M. |\n",
            "|===============================+======================+======================|\n",
            "|   0  Tesla T4            Off  | 00000000:00:04.0 Off |                    0 |\n",
            "| N/A   68C    P8    12W /  70W |      0MiB / 15109MiB |      0%      Default |\n",
            "|                               |                      |                  N/A |\n",
            "+-------------------------------+----------------------+----------------------+\n",
            "                                                                               \n",
            "+-----------------------------------------------------------------------------+\n",
            "| Processes:                                                                  |\n",
            "|  GPU   GI   CI        PID   Type   Process name                  GPU Memory |\n",
            "|        ID   ID                                                   Usage      |\n",
            "|=============================================================================|\n",
            "|  No running processes found                                                 |\n",
            "+-----------------------------------------------------------------------------+\n"
          ]
        }
      ]
    },
    {
      "cell_type": "code",
      "source": [
        "# import zipfile\n",
        "\n",
        "# # path = '/content/drive/MyDrive/AI_writer/Marketing_PhoBERT_ver5.zip'\n",
        "# path = '/content/drive/MyDrive/AI_writer/Marketing_Tokenizer_ver3.zip'\n",
        "# with zipfile.ZipFile(path, 'r') as zip_ref:\n",
        "#     zip_ref.extractall('/content/drive/MyDrive/AI_writer/models/tokenizer')\n"
      ],
      "metadata": {
        "id": "XpuY2JfLJWcF"
      },
      "execution_count": 5,
      "outputs": []
    },
    {
      "cell_type": "code",
      "source": [
        "import pandas as pd \n",
        "import numpy as np\n",
        "import os\n",
        "\n",
        "import sys\n",
        "sys.path.append('/content/drive/MyDrive/Seg3D/KiTS2019/Source')\n",
        "\n",
        "from repos.utils import multiprocess\n",
        "from repos.utils import get_progress \n",
        "from pyvi.ViTokenizer import tokenize\n",
        "\n",
        "import multiprocessing\n",
        "multiprocessing.cpu_count()\n"
      ],
      "metadata": {
        "id": "M5_DgJAScGv7",
        "colab": {
          "base_uri": "https://localhost:8080/"
        },
        "outputId": "85efbf95-501a-4d04-c26e-571e0cd9e292"
      },
      "execution_count": 6,
      "outputs": [
        {
          "output_type": "execute_result",
          "data": {
            "text/plain": [
              "4"
            ]
          },
          "metadata": {},
          "execution_count": 6
        }
      ]
    },
    {
      "cell_type": "code",
      "source": [
        "LAST_HIDDEN_STATE = 768\n",
        "MAX_LENGTH = 128 \n"
      ],
      "metadata": {
        "id": "JXOKyrjmcboW"
      },
      "execution_count": 7,
      "outputs": []
    },
    {
      "cell_type": "code",
      "source": [
        "from repos import utils\n",
        "\n",
        "cuda = utils.set_gpu(0)\n"
      ],
      "metadata": {
        "id": "E2p88mRAeRyP"
      },
      "execution_count": 8,
      "outputs": []
    },
    {
      "cell_type": "code",
      "execution_count": 9,
      "metadata": {
        "id": "R7-2Mm5dcEht",
        "colab": {
          "base_uri": "https://localhost:8080/",
          "height": 238
        },
        "outputId": "a36023e7-2821-4a50-8884-6628a8692cae"
      },
      "outputs": [
        {
          "output_type": "execute_result",
          "data": {
            "text/plain": [
              "                                                 content      product_label\n",
              "index                                                                      \n",
              "0      Với bạn, nhà là. Là nơi để trở về sau những că...             others\n",
              "1      Chill nhạc chất, an toàn là nhất. LG mong muốn...  thiết bị âm thanh\n",
              "2      CUỘC SỐNG CHUNG CƯ, TRĂM NIỀM TÂM SỰ. Sống tại...           máy giặt\n",
              "3      ĐỒ CŨ HÓA MỚI, VUI CHÀO THU SANG. Thời tiết sa...           máy giặt\n",
              "4      NGĂN BẢO QUẢN SỮA CHO MẸ. GIỮ TRỌN TỐT LÀNH TR...            tủ lạnh"
            ],
            "text/html": [
              "\n",
              "  <div id=\"df-3b768b4f-0038-4c17-867a-cb432a5899dc\">\n",
              "    <div class=\"colab-df-container\">\n",
              "      <div>\n",
              "<style scoped>\n",
              "    .dataframe tbody tr th:only-of-type {\n",
              "        vertical-align: middle;\n",
              "    }\n",
              "\n",
              "    .dataframe tbody tr th {\n",
              "        vertical-align: top;\n",
              "    }\n",
              "\n",
              "    .dataframe thead th {\n",
              "        text-align: right;\n",
              "    }\n",
              "</style>\n",
              "<table border=\"1\" class=\"dataframe\">\n",
              "  <thead>\n",
              "    <tr style=\"text-align: right;\">\n",
              "      <th></th>\n",
              "      <th>content</th>\n",
              "      <th>product_label</th>\n",
              "    </tr>\n",
              "    <tr>\n",
              "      <th>index</th>\n",
              "      <th></th>\n",
              "      <th></th>\n",
              "    </tr>\n",
              "  </thead>\n",
              "  <tbody>\n",
              "    <tr>\n",
              "      <th>0</th>\n",
              "      <td>Với bạn, nhà là. Là nơi để trở về sau những că...</td>\n",
              "      <td>others</td>\n",
              "    </tr>\n",
              "    <tr>\n",
              "      <th>1</th>\n",
              "      <td>Chill nhạc chất, an toàn là nhất. LG mong muốn...</td>\n",
              "      <td>thiết bị âm thanh</td>\n",
              "    </tr>\n",
              "    <tr>\n",
              "      <th>2</th>\n",
              "      <td>CUỘC SỐNG CHUNG CƯ, TRĂM NIỀM TÂM SỰ. Sống tại...</td>\n",
              "      <td>máy giặt</td>\n",
              "    </tr>\n",
              "    <tr>\n",
              "      <th>3</th>\n",
              "      <td>ĐỒ CŨ HÓA MỚI, VUI CHÀO THU SANG. Thời tiết sa...</td>\n",
              "      <td>máy giặt</td>\n",
              "    </tr>\n",
              "    <tr>\n",
              "      <th>4</th>\n",
              "      <td>NGĂN BẢO QUẢN SỮA CHO MẸ. GIỮ TRỌN TỐT LÀNH TR...</td>\n",
              "      <td>tủ lạnh</td>\n",
              "    </tr>\n",
              "  </tbody>\n",
              "</table>\n",
              "</div>\n",
              "      <button class=\"colab-df-convert\" onclick=\"convertToInteractive('df-3b768b4f-0038-4c17-867a-cb432a5899dc')\"\n",
              "              title=\"Convert this dataframe to an interactive table.\"\n",
              "              style=\"display:none;\">\n",
              "        \n",
              "  <svg xmlns=\"http://www.w3.org/2000/svg\" height=\"24px\"viewBox=\"0 0 24 24\"\n",
              "       width=\"24px\">\n",
              "    <path d=\"M0 0h24v24H0V0z\" fill=\"none\"/>\n",
              "    <path d=\"M18.56 5.44l.94 2.06.94-2.06 2.06-.94-2.06-.94-.94-2.06-.94 2.06-2.06.94zm-11 1L8.5 8.5l.94-2.06 2.06-.94-2.06-.94L8.5 2.5l-.94 2.06-2.06.94zm10 10l.94 2.06.94-2.06 2.06-.94-2.06-.94-.94-2.06-.94 2.06-2.06.94z\"/><path d=\"M17.41 7.96l-1.37-1.37c-.4-.4-.92-.59-1.43-.59-.52 0-1.04.2-1.43.59L10.3 9.45l-7.72 7.72c-.78.78-.78 2.05 0 2.83L4 21.41c.39.39.9.59 1.41.59.51 0 1.02-.2 1.41-.59l7.78-7.78 2.81-2.81c.8-.78.8-2.07 0-2.86zM5.41 20L4 18.59l7.72-7.72 1.47 1.35L5.41 20z\"/>\n",
              "  </svg>\n",
              "      </button>\n",
              "      \n",
              "  <style>\n",
              "    .colab-df-container {\n",
              "      display:flex;\n",
              "      flex-wrap:wrap;\n",
              "      gap: 12px;\n",
              "    }\n",
              "\n",
              "    .colab-df-convert {\n",
              "      background-color: #E8F0FE;\n",
              "      border: none;\n",
              "      border-radius: 50%;\n",
              "      cursor: pointer;\n",
              "      display: none;\n",
              "      fill: #1967D2;\n",
              "      height: 32px;\n",
              "      padding: 0 0 0 0;\n",
              "      width: 32px;\n",
              "    }\n",
              "\n",
              "    .colab-df-convert:hover {\n",
              "      background-color: #E2EBFA;\n",
              "      box-shadow: 0px 1px 2px rgba(60, 64, 67, 0.3), 0px 1px 3px 1px rgba(60, 64, 67, 0.15);\n",
              "      fill: #174EA6;\n",
              "    }\n",
              "\n",
              "    [theme=dark] .colab-df-convert {\n",
              "      background-color: #3B4455;\n",
              "      fill: #D2E3FC;\n",
              "    }\n",
              "\n",
              "    [theme=dark] .colab-df-convert:hover {\n",
              "      background-color: #434B5C;\n",
              "      box-shadow: 0px 1px 3px 1px rgba(0, 0, 0, 0.15);\n",
              "      filter: drop-shadow(0px 1px 2px rgba(0, 0, 0, 0.3));\n",
              "      fill: #FFFFFF;\n",
              "    }\n",
              "  </style>\n",
              "\n",
              "      <script>\n",
              "        const buttonEl =\n",
              "          document.querySelector('#df-3b768b4f-0038-4c17-867a-cb432a5899dc button.colab-df-convert');\n",
              "        buttonEl.style.display =\n",
              "          google.colab.kernel.accessAllowed ? 'block' : 'none';\n",
              "\n",
              "        async function convertToInteractive(key) {\n",
              "          const element = document.querySelector('#df-3b768b4f-0038-4c17-867a-cb432a5899dc');\n",
              "          const dataTable =\n",
              "            await google.colab.kernel.invokeFunction('convertToInteractive',\n",
              "                                                     [key], {});\n",
              "          if (!dataTable) return;\n",
              "\n",
              "          const docLinkHtml = 'Like what you see? Visit the ' +\n",
              "            '<a target=\"_blank\" href=https://colab.research.google.com/notebooks/data_table.ipynb>data table notebook</a>'\n",
              "            + ' to learn more about interactive tables.';\n",
              "          element.innerHTML = '';\n",
              "          dataTable['output_type'] = 'display_data';\n",
              "          await google.colab.output.renderOutput(dataTable, element);\n",
              "          const docLink = document.createElement('div');\n",
              "          docLink.innerHTML = docLinkHtml;\n",
              "          element.appendChild(docLink);\n",
              "        }\n",
              "      </script>\n",
              "    </div>\n",
              "  </div>\n",
              "  "
            ]
          },
          "metadata": {},
          "execution_count": 9
        }
      ],
      "source": [
        "data = pd.read_csv('/content/drive/MyDrive/AI_writer/[ProductLabeled]MarketingContent_ver5_4.csv', index_col=0)\n",
        "data.head(5) \n"
      ]
    },
    {
      "cell_type": "code",
      "execution_count": 10,
      "metadata": {
        "id": "pjvmOiOUcEhu"
      },
      "outputs": [],
      "source": [
        "# string = 'Asus dẫn đầu Intel Gen 11th'\n",
        "# clean_data[clean_data['content'].apply(lambda s: s.startswith(string))]\n"
      ]
    },
    {
      "cell_type": "code",
      "source": [
        "data = data[~data['product_label'].isin(['others'])]\n",
        "data"
      ],
      "metadata": {
        "colab": {
          "base_uri": "https://localhost:8080/",
          "height": 455
        },
        "id": "T9w3LkmSM4oz",
        "outputId": "d2b138cb-5791-42b1-d919-e0b5b7ecc76b"
      },
      "execution_count": 11,
      "outputs": [
        {
          "output_type": "execute_result",
          "data": {
            "text/plain": [
              "                                                 content      product_label\n",
              "index                                                                      \n",
              "1      Chill nhạc chất, an toàn là nhất. LG mong muốn...  thiết bị âm thanh\n",
              "2      CUỘC SỐNG CHUNG CƯ, TRĂM NIỀM TÂM SỰ. Sống tại...           máy giặt\n",
              "3      ĐỒ CŨ HÓA MỚI, VUI CHÀO THU SANG. Thời tiết sa...           máy giặt\n",
              "4      NGĂN BẢO QUẢN SỮA CHO MẸ. GIỮ TRỌN TỐT LÀNH TR...            tủ lạnh\n",
              "5      Toàn cảnh chiếc màn hình được yêu thích nhất t...               tivi\n",
              "...                                                  ...                ...\n",
              "32158  Dậy sớm đi bầu nào các bạn ơi! Diện xì tai nào...               bank\n",
              "32159  Chào mừng bạn đến lớp học của CAKE!! Để xây dự...               bank\n",
              "32160  Mỹ phẩm đã sản xuất theo lít thì Cake cũng bon...               bank\n",
              "32161  Sống dễ /ngồi nhà hưởng 5.2% lãi suất với Cake...               bank\n",
              "32162  Chúc mừng ngày Quốc Tế LGBT. Tha hồ chọn cho m...               bank\n",
              "\n",
              "[24577 rows x 2 columns]"
            ],
            "text/html": [
              "\n",
              "  <div id=\"df-6efc072d-4e79-4382-a7bb-f2fc5ade3896\">\n",
              "    <div class=\"colab-df-container\">\n",
              "      <div>\n",
              "<style scoped>\n",
              "    .dataframe tbody tr th:only-of-type {\n",
              "        vertical-align: middle;\n",
              "    }\n",
              "\n",
              "    .dataframe tbody tr th {\n",
              "        vertical-align: top;\n",
              "    }\n",
              "\n",
              "    .dataframe thead th {\n",
              "        text-align: right;\n",
              "    }\n",
              "</style>\n",
              "<table border=\"1\" class=\"dataframe\">\n",
              "  <thead>\n",
              "    <tr style=\"text-align: right;\">\n",
              "      <th></th>\n",
              "      <th>content</th>\n",
              "      <th>product_label</th>\n",
              "    </tr>\n",
              "    <tr>\n",
              "      <th>index</th>\n",
              "      <th></th>\n",
              "      <th></th>\n",
              "    </tr>\n",
              "  </thead>\n",
              "  <tbody>\n",
              "    <tr>\n",
              "      <th>1</th>\n",
              "      <td>Chill nhạc chất, an toàn là nhất. LG mong muốn...</td>\n",
              "      <td>thiết bị âm thanh</td>\n",
              "    </tr>\n",
              "    <tr>\n",
              "      <th>2</th>\n",
              "      <td>CUỘC SỐNG CHUNG CƯ, TRĂM NIỀM TÂM SỰ. Sống tại...</td>\n",
              "      <td>máy giặt</td>\n",
              "    </tr>\n",
              "    <tr>\n",
              "      <th>3</th>\n",
              "      <td>ĐỒ CŨ HÓA MỚI, VUI CHÀO THU SANG. Thời tiết sa...</td>\n",
              "      <td>máy giặt</td>\n",
              "    </tr>\n",
              "    <tr>\n",
              "      <th>4</th>\n",
              "      <td>NGĂN BẢO QUẢN SỮA CHO MẸ. GIỮ TRỌN TỐT LÀNH TR...</td>\n",
              "      <td>tủ lạnh</td>\n",
              "    </tr>\n",
              "    <tr>\n",
              "      <th>5</th>\n",
              "      <td>Toàn cảnh chiếc màn hình được yêu thích nhất t...</td>\n",
              "      <td>tivi</td>\n",
              "    </tr>\n",
              "    <tr>\n",
              "      <th>...</th>\n",
              "      <td>...</td>\n",
              "      <td>...</td>\n",
              "    </tr>\n",
              "    <tr>\n",
              "      <th>32158</th>\n",
              "      <td>Dậy sớm đi bầu nào các bạn ơi! Diện xì tai nào...</td>\n",
              "      <td>bank</td>\n",
              "    </tr>\n",
              "    <tr>\n",
              "      <th>32159</th>\n",
              "      <td>Chào mừng bạn đến lớp học của CAKE!! Để xây dự...</td>\n",
              "      <td>bank</td>\n",
              "    </tr>\n",
              "    <tr>\n",
              "      <th>32160</th>\n",
              "      <td>Mỹ phẩm đã sản xuất theo lít thì Cake cũng bon...</td>\n",
              "      <td>bank</td>\n",
              "    </tr>\n",
              "    <tr>\n",
              "      <th>32161</th>\n",
              "      <td>Sống dễ /ngồi nhà hưởng 5.2% lãi suất với Cake...</td>\n",
              "      <td>bank</td>\n",
              "    </tr>\n",
              "    <tr>\n",
              "      <th>32162</th>\n",
              "      <td>Chúc mừng ngày Quốc Tế LGBT. Tha hồ chọn cho m...</td>\n",
              "      <td>bank</td>\n",
              "    </tr>\n",
              "  </tbody>\n",
              "</table>\n",
              "<p>24577 rows × 2 columns</p>\n",
              "</div>\n",
              "      <button class=\"colab-df-convert\" onclick=\"convertToInteractive('df-6efc072d-4e79-4382-a7bb-f2fc5ade3896')\"\n",
              "              title=\"Convert this dataframe to an interactive table.\"\n",
              "              style=\"display:none;\">\n",
              "        \n",
              "  <svg xmlns=\"http://www.w3.org/2000/svg\" height=\"24px\"viewBox=\"0 0 24 24\"\n",
              "       width=\"24px\">\n",
              "    <path d=\"M0 0h24v24H0V0z\" fill=\"none\"/>\n",
              "    <path d=\"M18.56 5.44l.94 2.06.94-2.06 2.06-.94-2.06-.94-.94-2.06-.94 2.06-2.06.94zm-11 1L8.5 8.5l.94-2.06 2.06-.94-2.06-.94L8.5 2.5l-.94 2.06-2.06.94zm10 10l.94 2.06.94-2.06 2.06-.94-2.06-.94-.94-2.06-.94 2.06-2.06.94z\"/><path d=\"M17.41 7.96l-1.37-1.37c-.4-.4-.92-.59-1.43-.59-.52 0-1.04.2-1.43.59L10.3 9.45l-7.72 7.72c-.78.78-.78 2.05 0 2.83L4 21.41c.39.39.9.59 1.41.59.51 0 1.02-.2 1.41-.59l7.78-7.78 2.81-2.81c.8-.78.8-2.07 0-2.86zM5.41 20L4 18.59l7.72-7.72 1.47 1.35L5.41 20z\"/>\n",
              "  </svg>\n",
              "      </button>\n",
              "      \n",
              "  <style>\n",
              "    .colab-df-container {\n",
              "      display:flex;\n",
              "      flex-wrap:wrap;\n",
              "      gap: 12px;\n",
              "    }\n",
              "\n",
              "    .colab-df-convert {\n",
              "      background-color: #E8F0FE;\n",
              "      border: none;\n",
              "      border-radius: 50%;\n",
              "      cursor: pointer;\n",
              "      display: none;\n",
              "      fill: #1967D2;\n",
              "      height: 32px;\n",
              "      padding: 0 0 0 0;\n",
              "      width: 32px;\n",
              "    }\n",
              "\n",
              "    .colab-df-convert:hover {\n",
              "      background-color: #E2EBFA;\n",
              "      box-shadow: 0px 1px 2px rgba(60, 64, 67, 0.3), 0px 1px 3px 1px rgba(60, 64, 67, 0.15);\n",
              "      fill: #174EA6;\n",
              "    }\n",
              "\n",
              "    [theme=dark] .colab-df-convert {\n",
              "      background-color: #3B4455;\n",
              "      fill: #D2E3FC;\n",
              "    }\n",
              "\n",
              "    [theme=dark] .colab-df-convert:hover {\n",
              "      background-color: #434B5C;\n",
              "      box-shadow: 0px 1px 3px 1px rgba(0, 0, 0, 0.15);\n",
              "      filter: drop-shadow(0px 1px 2px rgba(0, 0, 0, 0.3));\n",
              "      fill: #FFFFFF;\n",
              "    }\n",
              "  </style>\n",
              "\n",
              "      <script>\n",
              "        const buttonEl =\n",
              "          document.querySelector('#df-6efc072d-4e79-4382-a7bb-f2fc5ade3896 button.colab-df-convert');\n",
              "        buttonEl.style.display =\n",
              "          google.colab.kernel.accessAllowed ? 'block' : 'none';\n",
              "\n",
              "        async function convertToInteractive(key) {\n",
              "          const element = document.querySelector('#df-6efc072d-4e79-4382-a7bb-f2fc5ade3896');\n",
              "          const dataTable =\n",
              "            await google.colab.kernel.invokeFunction('convertToInteractive',\n",
              "                                                     [key], {});\n",
              "          if (!dataTable) return;\n",
              "\n",
              "          const docLinkHtml = 'Like what you see? Visit the ' +\n",
              "            '<a target=\"_blank\" href=https://colab.research.google.com/notebooks/data_table.ipynb>data table notebook</a>'\n",
              "            + ' to learn more about interactive tables.';\n",
              "          element.innerHTML = '';\n",
              "          dataTable['output_type'] = 'display_data';\n",
              "          await google.colab.output.renderOutput(dataTable, element);\n",
              "          const docLink = document.createElement('div');\n",
              "          docLink.innerHTML = docLinkHtml;\n",
              "          element.appendChild(docLink);\n",
              "        }\n",
              "      </script>\n",
              "    </div>\n",
              "  </div>\n",
              "  "
            ]
          },
          "metadata": {},
          "execution_count": 11
        }
      ]
    },
    {
      "cell_type": "markdown",
      "metadata": {
        "id": "PTXrLmvRcEhv"
      },
      "source": [
        "Prompt"
      ]
    },
    {
      "cell_type": "code",
      "execution_count": 12,
      "metadata": {
        "id": "OA7e4BQ1cEhx",
        "colab": {
          "base_uri": "https://localhost:8080/",
          "height": 112
        },
        "outputId": "75c480fa-9959-48b7-cc76-80c619a6b8a9"
      },
      "outputs": [
        {
          "output_type": "execute_result",
          "data": {
            "text/plain": [
              "                          keyword product_label\n",
              "0       pin trâu, hiệu năng khủng        laptop\n",
              "1  khả năng gập, màn hình sắc nét        laptop"
            ],
            "text/html": [
              "\n",
              "  <div id=\"df-3008dd1a-13a3-4c91-b3da-3f78eea01d76\">\n",
              "    <div class=\"colab-df-container\">\n",
              "      <div>\n",
              "<style scoped>\n",
              "    .dataframe tbody tr th:only-of-type {\n",
              "        vertical-align: middle;\n",
              "    }\n",
              "\n",
              "    .dataframe tbody tr th {\n",
              "        vertical-align: top;\n",
              "    }\n",
              "\n",
              "    .dataframe thead th {\n",
              "        text-align: right;\n",
              "    }\n",
              "</style>\n",
              "<table border=\"1\" class=\"dataframe\">\n",
              "  <thead>\n",
              "    <tr style=\"text-align: right;\">\n",
              "      <th></th>\n",
              "      <th>keyword</th>\n",
              "      <th>product_label</th>\n",
              "    </tr>\n",
              "  </thead>\n",
              "  <tbody>\n",
              "    <tr>\n",
              "      <th>0</th>\n",
              "      <td>pin trâu, hiệu năng khủng</td>\n",
              "      <td>laptop</td>\n",
              "    </tr>\n",
              "    <tr>\n",
              "      <th>1</th>\n",
              "      <td>khả năng gập, màn hình sắc nét</td>\n",
              "      <td>laptop</td>\n",
              "    </tr>\n",
              "  </tbody>\n",
              "</table>\n",
              "</div>\n",
              "      <button class=\"colab-df-convert\" onclick=\"convertToInteractive('df-3008dd1a-13a3-4c91-b3da-3f78eea01d76')\"\n",
              "              title=\"Convert this dataframe to an interactive table.\"\n",
              "              style=\"display:none;\">\n",
              "        \n",
              "  <svg xmlns=\"http://www.w3.org/2000/svg\" height=\"24px\"viewBox=\"0 0 24 24\"\n",
              "       width=\"24px\">\n",
              "    <path d=\"M0 0h24v24H0V0z\" fill=\"none\"/>\n",
              "    <path d=\"M18.56 5.44l.94 2.06.94-2.06 2.06-.94-2.06-.94-.94-2.06-.94 2.06-2.06.94zm-11 1L8.5 8.5l.94-2.06 2.06-.94-2.06-.94L8.5 2.5l-.94 2.06-2.06.94zm10 10l.94 2.06.94-2.06 2.06-.94-2.06-.94-.94-2.06-.94 2.06-2.06.94z\"/><path d=\"M17.41 7.96l-1.37-1.37c-.4-.4-.92-.59-1.43-.59-.52 0-1.04.2-1.43.59L10.3 9.45l-7.72 7.72c-.78.78-.78 2.05 0 2.83L4 21.41c.39.39.9.59 1.41.59.51 0 1.02-.2 1.41-.59l7.78-7.78 2.81-2.81c.8-.78.8-2.07 0-2.86zM5.41 20L4 18.59l7.72-7.72 1.47 1.35L5.41 20z\"/>\n",
              "  </svg>\n",
              "      </button>\n",
              "      \n",
              "  <style>\n",
              "    .colab-df-container {\n",
              "      display:flex;\n",
              "      flex-wrap:wrap;\n",
              "      gap: 12px;\n",
              "    }\n",
              "\n",
              "    .colab-df-convert {\n",
              "      background-color: #E8F0FE;\n",
              "      border: none;\n",
              "      border-radius: 50%;\n",
              "      cursor: pointer;\n",
              "      display: none;\n",
              "      fill: #1967D2;\n",
              "      height: 32px;\n",
              "      padding: 0 0 0 0;\n",
              "      width: 32px;\n",
              "    }\n",
              "\n",
              "    .colab-df-convert:hover {\n",
              "      background-color: #E2EBFA;\n",
              "      box-shadow: 0px 1px 2px rgba(60, 64, 67, 0.3), 0px 1px 3px 1px rgba(60, 64, 67, 0.15);\n",
              "      fill: #174EA6;\n",
              "    }\n",
              "\n",
              "    [theme=dark] .colab-df-convert {\n",
              "      background-color: #3B4455;\n",
              "      fill: #D2E3FC;\n",
              "    }\n",
              "\n",
              "    [theme=dark] .colab-df-convert:hover {\n",
              "      background-color: #434B5C;\n",
              "      box-shadow: 0px 1px 3px 1px rgba(0, 0, 0, 0.15);\n",
              "      filter: drop-shadow(0px 1px 2px rgba(0, 0, 0, 0.3));\n",
              "      fill: #FFFFFF;\n",
              "    }\n",
              "  </style>\n",
              "\n",
              "      <script>\n",
              "        const buttonEl =\n",
              "          document.querySelector('#df-3008dd1a-13a3-4c91-b3da-3f78eea01d76 button.colab-df-convert');\n",
              "        buttonEl.style.display =\n",
              "          google.colab.kernel.accessAllowed ? 'block' : 'none';\n",
              "\n",
              "        async function convertToInteractive(key) {\n",
              "          const element = document.querySelector('#df-3008dd1a-13a3-4c91-b3da-3f78eea01d76');\n",
              "          const dataTable =\n",
              "            await google.colab.kernel.invokeFunction('convertToInteractive',\n",
              "                                                     [key], {});\n",
              "          if (!dataTable) return;\n",
              "\n",
              "          const docLinkHtml = 'Like what you see? Visit the ' +\n",
              "            '<a target=\"_blank\" href=https://colab.research.google.com/notebooks/data_table.ipynb>data table notebook</a>'\n",
              "            + ' to learn more about interactive tables.';\n",
              "          element.innerHTML = '';\n",
              "          dataTable['output_type'] = 'display_data';\n",
              "          await google.colab.output.renderOutput(dataTable, element);\n",
              "          const docLink = document.createElement('div');\n",
              "          docLink.innerHTML = docLinkHtml;\n",
              "          element.appendChild(docLink);\n",
              "        }\n",
              "      </script>\n",
              "    </div>\n",
              "  </div>\n",
              "  "
            ]
          },
          "metadata": {},
          "execution_count": 12
        }
      ],
      "source": [
        "keywords = ['pin trâu, hiệu năng khủng',\n",
        "        'khả năng gập, màn hình sắc nét'\n",
        "]\n",
        "\n",
        "\n",
        "keyword_base = pd.DataFrame(keywords, columns=['keyword'])\n",
        "keyword_base['product_label'] = 'laptop'\n",
        "keyword_base\n"
      ]
    },
    {
      "cell_type": "markdown",
      "metadata": {
        "id": "dMFjD_uZcEhy"
      },
      "source": [
        "Filter product label"
      ]
    },
    {
      "cell_type": "code",
      "source": [
        "# string = 'Asus dẫn đầu Intel Gen 11th'\n",
        "# knowledge_base[knowledge_base['content'].apply(lambda s: s.startswith(string))]"
      ],
      "metadata": {
        "id": "p3EHi7nSZ2_R"
      },
      "execution_count": 13,
      "outputs": []
    },
    {
      "cell_type": "code",
      "source": [
        "# products = data \n",
        "products = data[data['product_label'].isin(['laptop', 'điện thoại'])]\n",
        "\n",
        "def word_segment(idc):\n",
        "  row = products.iloc[idc]\n",
        "  sentence = row['content']\n",
        "\n",
        "  return tokenize(sentence)\n",
        "\n",
        "knowledge_base = pd.DataFrame(multiprocess(word_segment, range(len(products))), columns=['content'])\n",
        "knowledge_base['product_label'] = products['product_label'].values\n",
        "knowledge_base "
      ],
      "metadata": {
        "colab": {
          "base_uri": "https://localhost:8080/",
          "height": 442
        },
        "id": "PcSvxPgNC_AR",
        "outputId": "4582337b-282f-4681-e611-d46dc3d88d92"
      },
      "execution_count": 14,
      "outputs": [
        {
          "output_type": "stream",
          "name": "stderr",
          "text": [
            "100%|██████████| 7664/7664 [00:04<00:00, 1742.32it/s]\n"
          ]
        },
        {
          "output_type": "execute_result",
          "data": {
            "text/plain": [
              "                                                content product_label\n",
              "0     Dạo chơi chuẩn gram . Hè này , nếu không đi ch...        laptop\n",
              "1     CHẠY DEADLINE CHẲNG SỢ NGÀY MAI. Đi học , đi l...        laptop\n",
              "2     Có LG gram Nào , mình đi camp . Bạn đã sẵn_sàn...        laptop\n",
              "3     LG GRAM LIỆU CÓ XỨNG_ĐÁNG ĐƯỢC MỆNH_DANH LÀ UL...        laptop\n",
              "4     Người trẻ hiện_đại nên chọn Laptop như thế_nào...        laptop\n",
              "...                                                 ...           ...\n",
              "7659  Không phải chỉ ngồi nơi văn_phòng mới có_thể l...    điện thoại\n",
              "7660  Hành_trình 10 năm tiên_phong trong công_nghệ_d...    điện thoại\n",
              "7661  Cần gì 1001 app chỉnh_hình ghép ảnh phức_tạp ,...    điện thoại\n",
              "7662  Selfie 1600 tấm rồi mà vẫn chưa \" bắt \" được \"...    điện thoại\n",
              "7663  Mùa xuân ơi ! Ta nghe mùa xuân hát bên kia trờ...    điện thoại\n",
              "\n",
              "[7664 rows x 2 columns]"
            ],
            "text/html": [
              "\n",
              "  <div id=\"df-4c9ec362-965b-401e-90af-0c0e2802ae3e\">\n",
              "    <div class=\"colab-df-container\">\n",
              "      <div>\n",
              "<style scoped>\n",
              "    .dataframe tbody tr th:only-of-type {\n",
              "        vertical-align: middle;\n",
              "    }\n",
              "\n",
              "    .dataframe tbody tr th {\n",
              "        vertical-align: top;\n",
              "    }\n",
              "\n",
              "    .dataframe thead th {\n",
              "        text-align: right;\n",
              "    }\n",
              "</style>\n",
              "<table border=\"1\" class=\"dataframe\">\n",
              "  <thead>\n",
              "    <tr style=\"text-align: right;\">\n",
              "      <th></th>\n",
              "      <th>content</th>\n",
              "      <th>product_label</th>\n",
              "    </tr>\n",
              "  </thead>\n",
              "  <tbody>\n",
              "    <tr>\n",
              "      <th>0</th>\n",
              "      <td>Dạo chơi chuẩn gram . Hè này , nếu không đi ch...</td>\n",
              "      <td>laptop</td>\n",
              "    </tr>\n",
              "    <tr>\n",
              "      <th>1</th>\n",
              "      <td>CHẠY DEADLINE CHẲNG SỢ NGÀY MAI. Đi học , đi l...</td>\n",
              "      <td>laptop</td>\n",
              "    </tr>\n",
              "    <tr>\n",
              "      <th>2</th>\n",
              "      <td>Có LG gram Nào , mình đi camp . Bạn đã sẵn_sàn...</td>\n",
              "      <td>laptop</td>\n",
              "    </tr>\n",
              "    <tr>\n",
              "      <th>3</th>\n",
              "      <td>LG GRAM LIỆU CÓ XỨNG_ĐÁNG ĐƯỢC MỆNH_DANH LÀ UL...</td>\n",
              "      <td>laptop</td>\n",
              "    </tr>\n",
              "    <tr>\n",
              "      <th>4</th>\n",
              "      <td>Người trẻ hiện_đại nên chọn Laptop như thế_nào...</td>\n",
              "      <td>laptop</td>\n",
              "    </tr>\n",
              "    <tr>\n",
              "      <th>...</th>\n",
              "      <td>...</td>\n",
              "      <td>...</td>\n",
              "    </tr>\n",
              "    <tr>\n",
              "      <th>7659</th>\n",
              "      <td>Không phải chỉ ngồi nơi văn_phòng mới có_thể l...</td>\n",
              "      <td>điện thoại</td>\n",
              "    </tr>\n",
              "    <tr>\n",
              "      <th>7660</th>\n",
              "      <td>Hành_trình 10 năm tiên_phong trong công_nghệ_d...</td>\n",
              "      <td>điện thoại</td>\n",
              "    </tr>\n",
              "    <tr>\n",
              "      <th>7661</th>\n",
              "      <td>Cần gì 1001 app chỉnh_hình ghép ảnh phức_tạp ,...</td>\n",
              "      <td>điện thoại</td>\n",
              "    </tr>\n",
              "    <tr>\n",
              "      <th>7662</th>\n",
              "      <td>Selfie 1600 tấm rồi mà vẫn chưa \" bắt \" được \"...</td>\n",
              "      <td>điện thoại</td>\n",
              "    </tr>\n",
              "    <tr>\n",
              "      <th>7663</th>\n",
              "      <td>Mùa xuân ơi ! Ta nghe mùa xuân hát bên kia trờ...</td>\n",
              "      <td>điện thoại</td>\n",
              "    </tr>\n",
              "  </tbody>\n",
              "</table>\n",
              "<p>7664 rows × 2 columns</p>\n",
              "</div>\n",
              "      <button class=\"colab-df-convert\" onclick=\"convertToInteractive('df-4c9ec362-965b-401e-90af-0c0e2802ae3e')\"\n",
              "              title=\"Convert this dataframe to an interactive table.\"\n",
              "              style=\"display:none;\">\n",
              "        \n",
              "  <svg xmlns=\"http://www.w3.org/2000/svg\" height=\"24px\"viewBox=\"0 0 24 24\"\n",
              "       width=\"24px\">\n",
              "    <path d=\"M0 0h24v24H0V0z\" fill=\"none\"/>\n",
              "    <path d=\"M18.56 5.44l.94 2.06.94-2.06 2.06-.94-2.06-.94-.94-2.06-.94 2.06-2.06.94zm-11 1L8.5 8.5l.94-2.06 2.06-.94-2.06-.94L8.5 2.5l-.94 2.06-2.06.94zm10 10l.94 2.06.94-2.06 2.06-.94-2.06-.94-.94-2.06-.94 2.06-2.06.94z\"/><path d=\"M17.41 7.96l-1.37-1.37c-.4-.4-.92-.59-1.43-.59-.52 0-1.04.2-1.43.59L10.3 9.45l-7.72 7.72c-.78.78-.78 2.05 0 2.83L4 21.41c.39.39.9.59 1.41.59.51 0 1.02-.2 1.41-.59l7.78-7.78 2.81-2.81c.8-.78.8-2.07 0-2.86zM5.41 20L4 18.59l7.72-7.72 1.47 1.35L5.41 20z\"/>\n",
              "  </svg>\n",
              "      </button>\n",
              "      \n",
              "  <style>\n",
              "    .colab-df-container {\n",
              "      display:flex;\n",
              "      flex-wrap:wrap;\n",
              "      gap: 12px;\n",
              "    }\n",
              "\n",
              "    .colab-df-convert {\n",
              "      background-color: #E8F0FE;\n",
              "      border: none;\n",
              "      border-radius: 50%;\n",
              "      cursor: pointer;\n",
              "      display: none;\n",
              "      fill: #1967D2;\n",
              "      height: 32px;\n",
              "      padding: 0 0 0 0;\n",
              "      width: 32px;\n",
              "    }\n",
              "\n",
              "    .colab-df-convert:hover {\n",
              "      background-color: #E2EBFA;\n",
              "      box-shadow: 0px 1px 2px rgba(60, 64, 67, 0.3), 0px 1px 3px 1px rgba(60, 64, 67, 0.15);\n",
              "      fill: #174EA6;\n",
              "    }\n",
              "\n",
              "    [theme=dark] .colab-df-convert {\n",
              "      background-color: #3B4455;\n",
              "      fill: #D2E3FC;\n",
              "    }\n",
              "\n",
              "    [theme=dark] .colab-df-convert:hover {\n",
              "      background-color: #434B5C;\n",
              "      box-shadow: 0px 1px 3px 1px rgba(0, 0, 0, 0.15);\n",
              "      filter: drop-shadow(0px 1px 2px rgba(0, 0, 0, 0.3));\n",
              "      fill: #FFFFFF;\n",
              "    }\n",
              "  </style>\n",
              "\n",
              "      <script>\n",
              "        const buttonEl =\n",
              "          document.querySelector('#df-4c9ec362-965b-401e-90af-0c0e2802ae3e button.colab-df-convert');\n",
              "        buttonEl.style.display =\n",
              "          google.colab.kernel.accessAllowed ? 'block' : 'none';\n",
              "\n",
              "        async function convertToInteractive(key) {\n",
              "          const element = document.querySelector('#df-4c9ec362-965b-401e-90af-0c0e2802ae3e');\n",
              "          const dataTable =\n",
              "            await google.colab.kernel.invokeFunction('convertToInteractive',\n",
              "                                                     [key], {});\n",
              "          if (!dataTable) return;\n",
              "\n",
              "          const docLinkHtml = 'Like what you see? Visit the ' +\n",
              "            '<a target=\"_blank\" href=https://colab.research.google.com/notebooks/data_table.ipynb>data table notebook</a>'\n",
              "            + ' to learn more about interactive tables.';\n",
              "          element.innerHTML = '';\n",
              "          dataTable['output_type'] = 'display_data';\n",
              "          await google.colab.output.renderOutput(dataTable, element);\n",
              "          const docLink = document.createElement('div');\n",
              "          docLink.innerHTML = docLinkHtml;\n",
              "          element.appendChild(docLink);\n",
              "        }\n",
              "      </script>\n",
              "    </div>\n",
              "  </div>\n",
              "  "
            ]
          },
          "metadata": {},
          "execution_count": 14
        }
      ]
    },
    {
      "cell_type": "code",
      "execution_count": 15,
      "metadata": {
        "id": "HQNsVur4cEhz"
      },
      "outputs": [],
      "source": [
        "# string = 'Asus dẫn đầu Intel Gen 11th'\n",
        "# knowledge_base[knowledge_base['content'].apply(lambda s: s.startswith(string))]"
      ]
    },
    {
      "cell_type": "code",
      "execution_count": 16,
      "metadata": {
        "id": "pr_OOORgcEh0"
      },
      "outputs": [],
      "source": [
        "import numpy as np \n",
        "import torch\n",
        "import torch.nn as nn\n",
        "\n",
        "from transformers import (\n",
        "    AutoTokenizer,\n",
        "    AutoModel,\n",
        "    PhobertTokenizer,\n",
        "    RobertaTokenizer,\n",
        ")\n",
        "\n",
        "import warnings\n",
        "warnings.filterwarnings('ignore')\n"
      ]
    },
    {
      "cell_type": "markdown",
      "source": [
        "Load model"
      ],
      "metadata": {
        "id": "EkNS-P8JKBHP"
      }
    },
    {
      "cell_type": "code",
      "source": [
        "tokenizer = RobertaTokenizer.from_pretrained('/content/drive/MyDrive/AI_writer/models/tokenizer/Marketing_Tokenizer_ver3')\n",
        "# tokenizer = AutoTokenizer.from_pretrained(\"bert-base-uncased\")\n",
        "\n",
        "tokens = {'input_ids': [], 'attention_mask': [] }"
      ],
      "metadata": {
        "id": "jCKP3jD1KAYn"
      },
      "execution_count": 17,
      "outputs": []
    },
    {
      "cell_type": "markdown",
      "source": [
        "Embeddings "
      ],
      "metadata": {
        "id": "z50SMAZZ0wVL"
      }
    },
    {
      "cell_type": "code",
      "execution_count": 18,
      "metadata": {
        "id": "i_6_ZahRcEh1"
      },
      "outputs": [],
      "source": [
        "def tokenize_sentences(sentence):\n",
        "    update_tokens = tokenizer.encode_plus(sentence, \n",
        "                                          max_length=MAX_LENGTH,\n",
        "                                          padding = 'max_length', \n",
        "                                          # padding = 'longest', \n",
        "                                          return_attention_mask=True,\n",
        "                                          return_tensors='pt',\n",
        "                                          truncation=True, \n",
        "                                    )\n",
        "\n",
        "    return update_tokens"
      ]
    },
    {
      "cell_type": "code",
      "source": [
        "base_sentences  = knowledge_base['content']\n",
        "query_sentences = keyword_base['keyword']\n"
      ],
      "metadata": {
        "id": "z1t_hw3YAHoK"
      },
      "execution_count": 19,
      "outputs": []
    },
    {
      "cell_type": "code",
      "source": [
        "base_tokens = base_sentences.apply(tokenize_sentences)\n",
        "query_tokens = query_sentences.apply(tokenize_sentences)"
      ],
      "metadata": {
        "id": "oh3ujs2NkOja"
      },
      "execution_count": 20,
      "outputs": []
    },
    {
      "cell_type": "markdown",
      "source": [
        "Load dataset"
      ],
      "metadata": {
        "id": "6WWmnSBSftBT"
      }
    },
    {
      "cell_type": "code",
      "source": [
        "from torch.utils.data import Dataset\n",
        "from torch.utils.data import DataLoader\n",
        "from repos.training.data.base_class import StandardDataset\n",
        "\n",
        "class PseudoDataset(StandardDataset):\n",
        "    def __init__(self, msks, embedings):\n",
        "        self.mask = msks\n",
        "        self.embeddings = embedings\n",
        "\n",
        "    def get_len(self):\n",
        "        return len(self.embeddings)\n",
        "\n",
        "    def get_item(self, idc):\n",
        "        attn_msks = self.mask.iloc[idc]['attention_mask']\n",
        "        embedding = self.embeddings.iloc[idc]['input_ids'].squeeze()\n",
        "\n",
        "        attn_msks = self.create_msk_padding(attn_msks)\n",
        "\n",
        "        return attn_msks, embedding\n",
        "\n",
        "    @staticmethod\n",
        "    def create_msk_padding(attn_msks):\n",
        "      size = torch.Size([1, 128, LAST_HIDDEN_STATE])\n",
        "      attn_msks = attn_msks.unsqueeze(-1).expand(size).squeeze()\n",
        "      return attn_msks\n"
      ],
      "metadata": {
        "id": "2UL9JtDmfr1W"
      },
      "execution_count": 21,
      "outputs": []
    },
    {
      "cell_type": "code",
      "execution_count": 22,
      "metadata": {
        "id": "r9-LPrH_cEh1"
      },
      "outputs": [],
      "source": [
        "from transformers import logging\n",
        "logging.set_verbosity_error()\n",
        "\n",
        "import os\n",
        "os.environ[\"TOKENIZERS_PARALLELISM\"] = \"false\"\n",
        "\n",
        "def generate_model(freeze_features=False, pretrained_path=None):\n",
        "    # model = AutoModel.from_pretrained(\"bert-base-uncased\")\n",
        "    model = AutoModel.from_pretrained(\"/content/drive/MyDrive/AI_writer/models\")\n",
        "\n",
        "    if pretrained_path is not None:\n",
        "        print(pretrained_path)\n",
        "        cp = torch.load(pretrained_path, map_location=\"cpu\")\n",
        "        model.load_state_dict(cp['model_state_dict'])\n",
        "\n",
        "    if freeze_features:\n",
        "      print(\"Freeze feature\")\n",
        "      model = nn.Sequential(*list(model.children())[:-1])\n",
        "      for p in model.parameters():\n",
        "          p.requires_grad = False\n",
        "\n",
        "    return model\n",
        "\n",
        "model = generate_model()"
      ]
    },
    {
      "cell_type": "code",
      "source": [
        "def generate_embedding(model, tokens, init_wts=False, freeze_features=False):\n",
        "    if init_wts: \n",
        "        for p in model.parameters():\n",
        "            if p.dim() > 1:\n",
        "                nn.init.xavier_uniform_(p)\n",
        "    model.eval()\n",
        "    with torch.no_grad():\n",
        "      tokens = tokens.cuda()\n",
        "      model  = model.cuda()\n",
        "      outputs = model(tokens, return_dict=True)\n",
        "\n",
        "    embeddings = outputs.last_hidden_state\n",
        "    pooler_output = outputs.pooler_output\n",
        "\n",
        "    return embeddings, pooler_output"
      ],
      "metadata": {
        "id": "qHtiOj_tlz63"
      },
      "execution_count": 23,
      "outputs": []
    },
    {
      "cell_type": "code",
      "source": [
        "def mean_pooling(dataloader, eps=1e-9):\n",
        "    def yielder():\n",
        "      for idc, (attn_msks, embeddings) in get_progress(enumerate(dataloader), total=len(dataloader)):\n",
        "        embeddings = embeddings.cuda()\n",
        "        attn_msks  = attn_msks.cuda()\n",
        "\n",
        "        embeddings, _   = generate_embedding(model, embeddings) # (bz, sq_len, last_hidden_state) \n",
        "        embedding_msks  = embeddings * attn_msks\n",
        "        sum_embedding   = torch.sum(embedding_msks, 1)\n",
        "        sum_mask        = torch.clamp(attn_msks.sum(1), min=eps)\n",
        "\n",
        "        result          = (sum_embedding / sum_mask) \n",
        "\n",
        "        yield result.detach().cpu().numpy() \n",
        "    \n",
        "    return list(yielder())\n"
      ],
      "metadata": {
        "id": "Diu06EhuIq4R"
      },
      "execution_count": 24,
      "outputs": []
    },
    {
      "cell_type": "code",
      "source": [
        "# Mean base knowledge\n",
        "dataset     = PseudoDataset(msks=base_tokens, embedings=base_tokens)\n",
        "dataloader  = DataLoader(dataset, batch_size=128, shuffle=True)\n"
      ],
      "metadata": {
        "id": "vhjpIWkxRIY2"
      },
      "execution_count": 25,
      "outputs": []
    },
    {
      "cell_type": "code",
      "source": [
        "mean_base = mean_pooling(dataloader=dataloader)\n",
        "mean_base = np.concatenate(mean_base)\n",
        "mean_base.shape"
      ],
      "metadata": {
        "colab": {
          "base_uri": "https://localhost:8080/"
        },
        "id": "_wMcSlowGiH2",
        "outputId": "9e622f14-c79e-42d9-bc0a-8ebb6669605b"
      },
      "execution_count": 26,
      "outputs": [
        {
          "output_type": "stream",
          "name": "stderr",
          "text": [
            "100%|██████████| 60/60 [01:06<00:00,  1.10s/it]\n"
          ]
        },
        {
          "output_type": "execute_result",
          "data": {
            "text/plain": [
              "(7664, 768)"
            ]
          },
          "metadata": {},
          "execution_count": 26
        }
      ]
    },
    {
      "cell_type": "code",
      "source": [
        "# Mean Query Knowledge\n",
        "dataset     = PseudoDataset(msks=query_tokens, embedings=query_tokens)\n",
        "dataloader  = DataLoader(dataset, batch_size=128, shuffle=False)\n"
      ],
      "metadata": {
        "id": "XVaA-LjjZoEM"
      },
      "execution_count": 27,
      "outputs": []
    },
    {
      "cell_type": "code",
      "source": [
        "mean_query = mean_pooling(dataloader=dataloader)\n",
        "mean_query = np.concatenate(mean_query)\n",
        "mean_query.shape"
      ],
      "metadata": {
        "colab": {
          "base_uri": "https://localhost:8080/"
        },
        "id": "b5IjiLKJAtKa",
        "outputId": "6f439f75-8503-4073-b676-b8a92125617d"
      },
      "execution_count": 28,
      "outputs": [
        {
          "output_type": "stream",
          "name": "stderr",
          "text": [
            "100%|██████████| 1/1 [00:00<00:00, 43.25it/s]\n"
          ]
        },
        {
          "output_type": "execute_result",
          "data": {
            "text/plain": [
              "(2, 768)"
            ]
          },
          "metadata": {},
          "execution_count": 28
        }
      ]
    },
    {
      "cell_type": "markdown",
      "source": [
        "Save embeddings"
      ],
      "metadata": {
        "id": "xRz0Gyv-aer2"
      }
    },
    {
      "cell_type": "code",
      "source": [
        "# import json\n",
        "# from pathlib import Path \n",
        "# import pickle\n",
        "\n",
        "# with open('embeddings.json', 'w') as f:\n",
        "#     json.dump(mean_base.tolist(), f)\n"
      ],
      "metadata": {
        "id": "pptSS39SagXG"
      },
      "execution_count": 29,
      "outputs": []
    },
    {
      "cell_type": "code",
      "source": [
        "# with open('embeddings.json', 'r') as f:\n",
        "#     mean_base = json.load(f)\n"
      ],
      "metadata": {
        "id": "nUZqs1b4cUjt"
      },
      "execution_count": 30,
      "outputs": []
    },
    {
      "cell_type": "markdown",
      "source": [
        "**Cosine_similarity**"
      ],
      "metadata": {
        "id": "1ChtMH9bhgtX"
      }
    },
    {
      "cell_type": "code",
      "execution_count": 31,
      "metadata": {
        "id": "Z0GP8V8dcEh2",
        "colab": {
          "base_uri": "https://localhost:8080/"
        },
        "outputId": "bbaaa6b5-8bcc-4686-f3d8-821b3895a57a"
      },
      "outputs": [
        {
          "output_type": "stream",
          "name": "stdout",
          "text": [
            "3911\n",
            "Cosine_similarity: Trải nghiệm sức_mạnh đột_phá nhờ bộ vi xử_lý AMD Ryzen 3 cùng laptop Dell Vostro 3405 chính hãng . Task có nhiều thì việc gì phải căng , deadline nào chạy cũng êm_ru vì khả_năng đa_nhiệm xuất_sắc giúp dân văn_phòng xử_lý tốt các công_việc cần_thiết . Cặp bài_trùng Windows 11 + Office bản_quyền trọn đời được cài sẵn là trợ_thủ đắc_lực để nâng năng_suất công_việc lên đến mức tối_đa .\n"
          ]
        }
      ],
      "source": [
        "from sklearn.metrics.pairwise import cosine_similarity\n",
        "\n",
        "query = np.expand_dims(mean_query[0], axis=0)\n",
        "output = cosine_similarity(query, mean_base)\n",
        "idc    = np.argmax(output) \n",
        "\n",
        "print(idc)\n",
        "print(\"Cosine_similarity:\", knowledge_base['content'].iloc[idc])\n"
      ]
    },
    {
      "cell_type": "markdown",
      "source": [
        "**Faiss similarity**"
      ],
      "metadata": {
        "id": "uJTAa8ebhjgT"
      }
    },
    {
      "cell_type": "code",
      "execution_count": 32,
      "metadata": {
        "id": "R9omNqChcEh3"
      },
      "outputs": [],
      "source": [
        "import faiss \n",
        "\n",
        "MAX_LENGTH = 128\n",
        "LAST_HIDDEN_STATE = 768\n",
        "TOP_K = 10\n",
        "\n",
        "class RetrievalandRanking(nn.Module):\n",
        "    def __init__(self, query_embedding, base_embedding, top_k):\n",
        "        super().__init__()\n",
        "        self.query_vec =  query_embedding\n",
        "        self.lib_vec   =  base_embedding\n",
        "        self.top_k = top_k\n",
        "\n",
        "    def check_similarity(self):\n",
        "        self.index = faiss.IndexFlatL2(LAST_HIDDEN_STATE)   \n",
        "        self.index.add(self.lib_vec)                             \n",
        "        dis, idc = self.index.search(self.query_vec, k=self.top_k)\n",
        "        return dis, idc\n",
        "\n",
        "    def forward(self, sentences: pd.DataFrame):\n",
        "        top_dis, top_idc = self.check_similarity()\n",
        "        top_sentence = [sentences['content'].iloc[idc] for idc in top_idc[0]]\n",
        "        label        = [sentences['product_label'].iloc[idc] for idc in top_idc[0]]\n",
        "        return top_sentence, label\n",
        "\n",
        "    def extra_repr(self):\n",
        "        return f\"top_k={self.top_k}, index_trained={self.index.is_trained}, index_ntotal={self.index.ntotal}\"\n",
        "\n",
        "\n",
        "result = RetrievalandRanking(mean_query, mean_base, top_k=TOP_K)\n",
        "top_sentences, top_labels = result(knowledge_base)\n"
      ]
    },
    {
      "cell_type": "code",
      "execution_count": 33,
      "metadata": {
        "id": "7zgaTlGRcEh4",
        "colab": {
          "base_uri": "https://localhost:8080/",
          "height": 417
        },
        "outputId": "ed893b91-dfb9-4262-f832-51ad407301fe"
      },
      "outputs": [
        {
          "output_type": "stream",
          "name": "stdout",
          "text": [
            "keyword          pin trâu, hiệu năng khủng\n",
            "product_label                       laptop\n",
            "Name: 0, dtype: object\n"
          ]
        },
        {
          "output_type": "execute_result",
          "data": {
            "text/plain": [
              "                                             content product_label\n",
              "0  Trải nghiệm sức_mạnh đột_phá nhờ bộ vi xử_lý A...        laptop\n",
              "1  ĐỒ_HỌA ĐỈNH_CAO ĐẾN GIẢI_TRÍ TUYỆT_VỜI . Dell ...        laptop\n",
              "2  MUA MÁY XỊN , NHẬN QUÀ SANG Từ 05 / 04 / 2021 ...        laptop\n",
              "3  Hiệu_năng mạnh_mẽ với mức giá hạt_dẻ ? Bài_toá...        laptop\n",
              "4  Sẵn_sàng gập mọi giới_hạn , mở vạn tiềm_năng Đ...    điện thoại\n",
              "5  Công_nghệ thay_đổi ngày_càng nhanh . Cuộc_sống...    điện thoại\n",
              "6  Sự_kiện ra_mắt B9 Laptop Doanh_Nhân 14 inch Mỏ...        laptop\n",
              "7  Kiên_nhẫn chờ_đợi sẽ nhận lại được những điều ...    điện thoại\n",
              "8  ASUSPRO là dòng laptop được thiết_kế chuyên_bi...        laptop\n",
              "9  VIVOBOOK S TÔI LÀ TÂM_ĐIỂM . Thế_hệ Gen Z năng...        laptop"
            ],
            "text/html": [
              "\n",
              "  <div id=\"df-eef192d3-81f7-41e8-b697-5810e64372bd\">\n",
              "    <div class=\"colab-df-container\">\n",
              "      <div>\n",
              "<style scoped>\n",
              "    .dataframe tbody tr th:only-of-type {\n",
              "        vertical-align: middle;\n",
              "    }\n",
              "\n",
              "    .dataframe tbody tr th {\n",
              "        vertical-align: top;\n",
              "    }\n",
              "\n",
              "    .dataframe thead th {\n",
              "        text-align: right;\n",
              "    }\n",
              "</style>\n",
              "<table border=\"1\" class=\"dataframe\">\n",
              "  <thead>\n",
              "    <tr style=\"text-align: right;\">\n",
              "      <th></th>\n",
              "      <th>content</th>\n",
              "      <th>product_label</th>\n",
              "    </tr>\n",
              "  </thead>\n",
              "  <tbody>\n",
              "    <tr>\n",
              "      <th>0</th>\n",
              "      <td>Trải nghiệm sức_mạnh đột_phá nhờ bộ vi xử_lý A...</td>\n",
              "      <td>laptop</td>\n",
              "    </tr>\n",
              "    <tr>\n",
              "      <th>1</th>\n",
              "      <td>ĐỒ_HỌA ĐỈNH_CAO ĐẾN GIẢI_TRÍ TUYỆT_VỜI . Dell ...</td>\n",
              "      <td>laptop</td>\n",
              "    </tr>\n",
              "    <tr>\n",
              "      <th>2</th>\n",
              "      <td>MUA MÁY XỊN , NHẬN QUÀ SANG Từ 05 / 04 / 2021 ...</td>\n",
              "      <td>laptop</td>\n",
              "    </tr>\n",
              "    <tr>\n",
              "      <th>3</th>\n",
              "      <td>Hiệu_năng mạnh_mẽ với mức giá hạt_dẻ ? Bài_toá...</td>\n",
              "      <td>laptop</td>\n",
              "    </tr>\n",
              "    <tr>\n",
              "      <th>4</th>\n",
              "      <td>Sẵn_sàng gập mọi giới_hạn , mở vạn tiềm_năng Đ...</td>\n",
              "      <td>điện thoại</td>\n",
              "    </tr>\n",
              "    <tr>\n",
              "      <th>5</th>\n",
              "      <td>Công_nghệ thay_đổi ngày_càng nhanh . Cuộc_sống...</td>\n",
              "      <td>điện thoại</td>\n",
              "    </tr>\n",
              "    <tr>\n",
              "      <th>6</th>\n",
              "      <td>Sự_kiện ra_mắt B9 Laptop Doanh_Nhân 14 inch Mỏ...</td>\n",
              "      <td>laptop</td>\n",
              "    </tr>\n",
              "    <tr>\n",
              "      <th>7</th>\n",
              "      <td>Kiên_nhẫn chờ_đợi sẽ nhận lại được những điều ...</td>\n",
              "      <td>điện thoại</td>\n",
              "    </tr>\n",
              "    <tr>\n",
              "      <th>8</th>\n",
              "      <td>ASUSPRO là dòng laptop được thiết_kế chuyên_bi...</td>\n",
              "      <td>laptop</td>\n",
              "    </tr>\n",
              "    <tr>\n",
              "      <th>9</th>\n",
              "      <td>VIVOBOOK S TÔI LÀ TÂM_ĐIỂM . Thế_hệ Gen Z năng...</td>\n",
              "      <td>laptop</td>\n",
              "    </tr>\n",
              "  </tbody>\n",
              "</table>\n",
              "</div>\n",
              "      <button class=\"colab-df-convert\" onclick=\"convertToInteractive('df-eef192d3-81f7-41e8-b697-5810e64372bd')\"\n",
              "              title=\"Convert this dataframe to an interactive table.\"\n",
              "              style=\"display:none;\">\n",
              "        \n",
              "  <svg xmlns=\"http://www.w3.org/2000/svg\" height=\"24px\"viewBox=\"0 0 24 24\"\n",
              "       width=\"24px\">\n",
              "    <path d=\"M0 0h24v24H0V0z\" fill=\"none\"/>\n",
              "    <path d=\"M18.56 5.44l.94 2.06.94-2.06 2.06-.94-2.06-.94-.94-2.06-.94 2.06-2.06.94zm-11 1L8.5 8.5l.94-2.06 2.06-.94-2.06-.94L8.5 2.5l-.94 2.06-2.06.94zm10 10l.94 2.06.94-2.06 2.06-.94-2.06-.94-.94-2.06-.94 2.06-2.06.94z\"/><path d=\"M17.41 7.96l-1.37-1.37c-.4-.4-.92-.59-1.43-.59-.52 0-1.04.2-1.43.59L10.3 9.45l-7.72 7.72c-.78.78-.78 2.05 0 2.83L4 21.41c.39.39.9.59 1.41.59.51 0 1.02-.2 1.41-.59l7.78-7.78 2.81-2.81c.8-.78.8-2.07 0-2.86zM5.41 20L4 18.59l7.72-7.72 1.47 1.35L5.41 20z\"/>\n",
              "  </svg>\n",
              "      </button>\n",
              "      \n",
              "  <style>\n",
              "    .colab-df-container {\n",
              "      display:flex;\n",
              "      flex-wrap:wrap;\n",
              "      gap: 12px;\n",
              "    }\n",
              "\n",
              "    .colab-df-convert {\n",
              "      background-color: #E8F0FE;\n",
              "      border: none;\n",
              "      border-radius: 50%;\n",
              "      cursor: pointer;\n",
              "      display: none;\n",
              "      fill: #1967D2;\n",
              "      height: 32px;\n",
              "      padding: 0 0 0 0;\n",
              "      width: 32px;\n",
              "    }\n",
              "\n",
              "    .colab-df-convert:hover {\n",
              "      background-color: #E2EBFA;\n",
              "      box-shadow: 0px 1px 2px rgba(60, 64, 67, 0.3), 0px 1px 3px 1px rgba(60, 64, 67, 0.15);\n",
              "      fill: #174EA6;\n",
              "    }\n",
              "\n",
              "    [theme=dark] .colab-df-convert {\n",
              "      background-color: #3B4455;\n",
              "      fill: #D2E3FC;\n",
              "    }\n",
              "\n",
              "    [theme=dark] .colab-df-convert:hover {\n",
              "      background-color: #434B5C;\n",
              "      box-shadow: 0px 1px 3px 1px rgba(0, 0, 0, 0.15);\n",
              "      filter: drop-shadow(0px 1px 2px rgba(0, 0, 0, 0.3));\n",
              "      fill: #FFFFFF;\n",
              "    }\n",
              "  </style>\n",
              "\n",
              "      <script>\n",
              "        const buttonEl =\n",
              "          document.querySelector('#df-eef192d3-81f7-41e8-b697-5810e64372bd button.colab-df-convert');\n",
              "        buttonEl.style.display =\n",
              "          google.colab.kernel.accessAllowed ? 'block' : 'none';\n",
              "\n",
              "        async function convertToInteractive(key) {\n",
              "          const element = document.querySelector('#df-eef192d3-81f7-41e8-b697-5810e64372bd');\n",
              "          const dataTable =\n",
              "            await google.colab.kernel.invokeFunction('convertToInteractive',\n",
              "                                                     [key], {});\n",
              "          if (!dataTable) return;\n",
              "\n",
              "          const docLinkHtml = 'Like what you see? Visit the ' +\n",
              "            '<a target=\"_blank\" href=https://colab.research.google.com/notebooks/data_table.ipynb>data table notebook</a>'\n",
              "            + ' to learn more about interactive tables.';\n",
              "          element.innerHTML = '';\n",
              "          dataTable['output_type'] = 'display_data';\n",
              "          await google.colab.output.renderOutput(dataTable, element);\n",
              "          const docLink = document.createElement('div');\n",
              "          docLink.innerHTML = docLinkHtml;\n",
              "          element.appendChild(docLink);\n",
              "        }\n",
              "      </script>\n",
              "    </div>\n",
              "  </div>\n",
              "  "
            ]
          },
          "metadata": {},
          "execution_count": 33
        }
      ],
      "source": [
        "dataset = []\n",
        "\n",
        "for idc in range(0, 10):\n",
        "  dataset.append([top_sentences[idc], top_labels[idc]])\n",
        "\n",
        "\n",
        "print(keyword_base.iloc[0])\n",
        "\n",
        "result = pd.DataFrame(dataset, columns=['content', 'product_label'])\n",
        "result"
      ]
    },
    {
      "cell_type": "code",
      "source": [
        ""
      ],
      "metadata": {
        "id": "Kbjl9zDvesFE"
      },
      "execution_count": 33,
      "outputs": []
    }
  ],
  "metadata": {
    "interpreter": {
      "hash": "73debb880a198c180bbd222a47dda85b4338a84f60caf5c95fac3f32e5ae8937"
    },
    "kernelspec": {
      "display_name": "Python 3.7.13 ('env1')",
      "language": "python",
      "name": "python3"
    },
    "language_info": {
      "codemirror_mode": {
        "name": "ipython",
        "version": 3
      },
      "file_extension": ".py",
      "mimetype": "text/x-python",
      "name": "python",
      "nbconvert_exporter": "python",
      "pygments_lexer": "ipython3",
      "version": "3.7.13"
    },
    "orig_nbformat": 4,
    "colab": {
      "name": "retrieval_ranking_AI_writer.ipynb",
      "provenance": [],
      "collapsed_sections": [],
      "machine_shape": "hm"
    },
    "accelerator": "GPU",
    "gpuClass": "standard"
  },
  "nbformat": 4,
  "nbformat_minor": 0
}